{
 "cells": [
  {
   "cell_type": "markdown",
   "metadata": {},
   "source": [
    "A regression analysis to examine the factors that \n",
    "significantly affect the price of house using the house data\n",
    "\n",
    "Let us import relevant libraries"
   ]
  },
  {
   "cell_type": "code",
   "execution_count": 2,
   "metadata": {},
   "outputs": [],
   "source": [
    "import numpy as np\n",
    "import pandas as pd\n",
    "import matplotlib.pyplot as plt\n",
    "import seaborn as sbn\n",
    "from sklearn.linear_model import LinearRegression\n",
    "from sklearn.model_selection import train_test_split"
   ]
  },
  {
   "cell_type": "markdown",
   "metadata": {},
   "source": [
    "Loading our dataset into the notebook"
   ]
  },
  {
   "cell_type": "code",
   "execution_count": 3,
   "metadata": {},
   "outputs": [
    {
     "data": {
      "text/html": [
       "<div>\n",
       "<style scoped>\n",
       "    .dataframe tbody tr th:only-of-type {\n",
       "        vertical-align: middle;\n",
       "    }\n",
       "\n",
       "    .dataframe tbody tr th {\n",
       "        vertical-align: top;\n",
       "    }\n",
       "\n",
       "    .dataframe thead th {\n",
       "        text-align: right;\n",
       "    }\n",
       "</style>\n",
       "<table border=\"1\" class=\"dataframe\">\n",
       "  <thead>\n",
       "    <tr style=\"text-align: right;\">\n",
       "      <th></th>\n",
       "      <th>MLS#</th>\n",
       "      <th>Location</th>\n",
       "      <th>Price</th>\n",
       "      <th>Bedrooms</th>\n",
       "      <th>Bathrooms</th>\n",
       "      <th>SQFT</th>\n",
       "      <th>Price/SQFT</th>\n",
       "      <th>Status</th>\n",
       "    </tr>\n",
       "  </thead>\n",
       "  <tbody>\n",
       "    <tr>\n",
       "      <th>0</th>\n",
       "      <td>132842</td>\n",
       "      <td>Arroyo Grande</td>\n",
       "      <td>795000</td>\n",
       "      <td>3</td>\n",
       "      <td>3</td>\n",
       "      <td>2371</td>\n",
       "      <td>335.30</td>\n",
       "      <td>Short Sale</td>\n",
       "    </tr>\n",
       "    <tr>\n",
       "      <th>1</th>\n",
       "      <td>134364</td>\n",
       "      <td>Paso Robles</td>\n",
       "      <td>399000</td>\n",
       "      <td>4</td>\n",
       "      <td>3</td>\n",
       "      <td>2818</td>\n",
       "      <td>141.59</td>\n",
       "      <td>Short Sale</td>\n",
       "    </tr>\n",
       "    <tr>\n",
       "      <th>2</th>\n",
       "      <td>135141</td>\n",
       "      <td>Paso Robles</td>\n",
       "      <td>545000</td>\n",
       "      <td>4</td>\n",
       "      <td>3</td>\n",
       "      <td>3032</td>\n",
       "      <td>179.75</td>\n",
       "      <td>Short Sale</td>\n",
       "    </tr>\n",
       "    <tr>\n",
       "      <th>3</th>\n",
       "      <td>135712</td>\n",
       "      <td>Morro Bay</td>\n",
       "      <td>909000</td>\n",
       "      <td>4</td>\n",
       "      <td>4</td>\n",
       "      <td>3540</td>\n",
       "      <td>256.78</td>\n",
       "      <td>Short Sale</td>\n",
       "    </tr>\n",
       "    <tr>\n",
       "      <th>4</th>\n",
       "      <td>136282</td>\n",
       "      <td>Santa Maria-Orcutt</td>\n",
       "      <td>109900</td>\n",
       "      <td>3</td>\n",
       "      <td>1</td>\n",
       "      <td>1249</td>\n",
       "      <td>87.99</td>\n",
       "      <td>Short Sale</td>\n",
       "    </tr>\n",
       "  </tbody>\n",
       "</table>\n",
       "</div>"
      ],
      "text/plain": [
       "     MLS#            Location   Price  Bedrooms  Bathrooms  SQFT  Price/SQFT  \\\n",
       "0  132842       Arroyo Grande  795000         3          3  2371      335.30   \n",
       "1  134364         Paso Robles  399000         4          3  2818      141.59   \n",
       "2  135141         Paso Robles  545000         4          3  3032      179.75   \n",
       "3  135712           Morro Bay  909000         4          4  3540      256.78   \n",
       "4  136282  Santa Maria-Orcutt  109900         3          1  1249       87.99   \n",
       "\n",
       "       Status  \n",
       "0  Short Sale  \n",
       "1  Short Sale  \n",
       "2  Short Sale  \n",
       "3  Short Sale  \n",
       "4  Short Sale  "
      ]
     },
     "execution_count": 3,
     "metadata": {},
     "output_type": "execute_result"
    }
   ],
   "source": [
    "House_data = pd.read_csv(\"/Users/user/Desktop/Python project/house.csv\")\n",
    "House_data.head()"
   ]
  },
  {
   "cell_type": "markdown",
   "metadata": {},
   "source": [
    "Eploring the dataset"
   ]
  },
  {
   "cell_type": "code",
   "execution_count": 4,
   "metadata": {},
   "outputs": [
    {
     "name": "stdout",
     "output_type": "stream",
     "text": [
      "<class 'pandas.core.frame.DataFrame'>\n",
      "RangeIndex: 781 entries, 0 to 780\n",
      "Data columns (total 8 columns):\n",
      " #   Column      Non-Null Count  Dtype  \n",
      "---  ------      --------------  -----  \n",
      " 0   MLS#        781 non-null    int64  \n",
      " 1   Location    781 non-null    object \n",
      " 2   Price       781 non-null    int64  \n",
      " 3   Bedrooms    781 non-null    int64  \n",
      " 4   Bathrooms   781 non-null    int64  \n",
      " 5   SQFT        781 non-null    int64  \n",
      " 6   Price/SQFT  781 non-null    float64\n",
      " 7   Status      781 non-null    object \n",
      "dtypes: float64(1), int64(5), object(2)\n",
      "memory usage: 48.9+ KB\n"
     ]
    }
   ],
   "source": [
    "House_data.info()"
   ]
  },
  {
   "cell_type": "code",
   "execution_count": 5,
   "metadata": {},
   "outputs": [
    {
     "data": {
      "text/html": [
       "<div>\n",
       "<style scoped>\n",
       "    .dataframe tbody tr th:only-of-type {\n",
       "        vertical-align: middle;\n",
       "    }\n",
       "\n",
       "    .dataframe tbody tr th {\n",
       "        vertical-align: top;\n",
       "    }\n",
       "\n",
       "    .dataframe thead th {\n",
       "        text-align: right;\n",
       "    }\n",
       "</style>\n",
       "<table border=\"1\" class=\"dataframe\">\n",
       "  <thead>\n",
       "    <tr style=\"text-align: right;\">\n",
       "      <th></th>\n",
       "      <th>MLS#</th>\n",
       "      <th>Location</th>\n",
       "      <th>Price</th>\n",
       "      <th>Bedrooms</th>\n",
       "      <th>Bathrooms</th>\n",
       "      <th>SQFT</th>\n",
       "      <th>Price/SQFT</th>\n",
       "      <th>Status</th>\n",
       "    </tr>\n",
       "  </thead>\n",
       "  <tbody>\n",
       "    <tr>\n",
       "      <th>0</th>\n",
       "      <td>132842</td>\n",
       "      <td>Arroyo Grande</td>\n",
       "      <td>795000</td>\n",
       "      <td>3</td>\n",
       "      <td>3</td>\n",
       "      <td>2371</td>\n",
       "      <td>335.30</td>\n",
       "      <td>Short Sale</td>\n",
       "    </tr>\n",
       "    <tr>\n",
       "      <th>1</th>\n",
       "      <td>134364</td>\n",
       "      <td>Paso Robles</td>\n",
       "      <td>399000</td>\n",
       "      <td>4</td>\n",
       "      <td>3</td>\n",
       "      <td>2818</td>\n",
       "      <td>141.59</td>\n",
       "      <td>Short Sale</td>\n",
       "    </tr>\n",
       "    <tr>\n",
       "      <th>2</th>\n",
       "      <td>135141</td>\n",
       "      <td>Paso Robles</td>\n",
       "      <td>545000</td>\n",
       "      <td>4</td>\n",
       "      <td>3</td>\n",
       "      <td>3032</td>\n",
       "      <td>179.75</td>\n",
       "      <td>Short Sale</td>\n",
       "    </tr>\n",
       "    <tr>\n",
       "      <th>3</th>\n",
       "      <td>135712</td>\n",
       "      <td>Morro Bay</td>\n",
       "      <td>909000</td>\n",
       "      <td>4</td>\n",
       "      <td>4</td>\n",
       "      <td>3540</td>\n",
       "      <td>256.78</td>\n",
       "      <td>Short Sale</td>\n",
       "    </tr>\n",
       "    <tr>\n",
       "      <th>4</th>\n",
       "      <td>136282</td>\n",
       "      <td>Santa Maria-Orcutt</td>\n",
       "      <td>109900</td>\n",
       "      <td>3</td>\n",
       "      <td>1</td>\n",
       "      <td>1249</td>\n",
       "      <td>87.99</td>\n",
       "      <td>Short Sale</td>\n",
       "    </tr>\n",
       "    <tr>\n",
       "      <th>...</th>\n",
       "      <td>...</td>\n",
       "      <td>...</td>\n",
       "      <td>...</td>\n",
       "      <td>...</td>\n",
       "      <td>...</td>\n",
       "      <td>...</td>\n",
       "      <td>...</td>\n",
       "      <td>...</td>\n",
       "    </tr>\n",
       "    <tr>\n",
       "      <th>776</th>\n",
       "      <td>154562</td>\n",
       "      <td>Paso Robles</td>\n",
       "      <td>319900</td>\n",
       "      <td>3</td>\n",
       "      <td>3</td>\n",
       "      <td>1605</td>\n",
       "      <td>199.31</td>\n",
       "      <td>Regular</td>\n",
       "    </tr>\n",
       "    <tr>\n",
       "      <th>777</th>\n",
       "      <td>154565</td>\n",
       "      <td>Paso Robles</td>\n",
       "      <td>495000</td>\n",
       "      <td>3</td>\n",
       "      <td>2</td>\n",
       "      <td>1877</td>\n",
       "      <td>263.72</td>\n",
       "      <td>Regular</td>\n",
       "    </tr>\n",
       "    <tr>\n",
       "      <th>778</th>\n",
       "      <td>154566</td>\n",
       "      <td>San Luis Obispo</td>\n",
       "      <td>372000</td>\n",
       "      <td>3</td>\n",
       "      <td>2</td>\n",
       "      <td>1104</td>\n",
       "      <td>336.96</td>\n",
       "      <td>Foreclosure</td>\n",
       "    </tr>\n",
       "    <tr>\n",
       "      <th>779</th>\n",
       "      <td>154575</td>\n",
       "      <td>Arroyo Grande</td>\n",
       "      <td>589000</td>\n",
       "      <td>3</td>\n",
       "      <td>2</td>\n",
       "      <td>1975</td>\n",
       "      <td>298.23</td>\n",
       "      <td>Regular</td>\n",
       "    </tr>\n",
       "    <tr>\n",
       "      <th>780</th>\n",
       "      <td>154580</td>\n",
       "      <td>Cambria</td>\n",
       "      <td>1100000</td>\n",
       "      <td>3</td>\n",
       "      <td>3</td>\n",
       "      <td>2392</td>\n",
       "      <td>459.87</td>\n",
       "      <td>Regular</td>\n",
       "    </tr>\n",
       "  </tbody>\n",
       "</table>\n",
       "<p>781 rows × 8 columns</p>\n",
       "</div>"
      ],
      "text/plain": [
       "       MLS#            Location    Price  Bedrooms  Bathrooms  SQFT  \\\n",
       "0    132842       Arroyo Grande   795000         3          3  2371   \n",
       "1    134364         Paso Robles   399000         4          3  2818   \n",
       "2    135141         Paso Robles   545000         4          3  3032   \n",
       "3    135712           Morro Bay   909000         4          4  3540   \n",
       "4    136282  Santa Maria-Orcutt   109900         3          1  1249   \n",
       "..      ...                 ...      ...       ...        ...   ...   \n",
       "776  154562         Paso Robles   319900         3          3  1605   \n",
       "777  154565         Paso Robles   495000         3          2  1877   \n",
       "778  154566     San Luis Obispo   372000         3          2  1104   \n",
       "779  154575       Arroyo Grande   589000         3          2  1975   \n",
       "780  154580             Cambria  1100000         3          3  2392   \n",
       "\n",
       "     Price/SQFT       Status  \n",
       "0        335.30   Short Sale  \n",
       "1        141.59   Short Sale  \n",
       "2        179.75   Short Sale  \n",
       "3        256.78   Short Sale  \n",
       "4         87.99   Short Sale  \n",
       "..          ...          ...  \n",
       "776      199.31      Regular  \n",
       "777      263.72      Regular  \n",
       "778      336.96  Foreclosure  \n",
       "779      298.23      Regular  \n",
       "780      459.87      Regular  \n",
       "\n",
       "[781 rows x 8 columns]"
      ]
     },
     "execution_count": 5,
     "metadata": {},
     "output_type": "execute_result"
    }
   ],
   "source": [
    "House_data"
   ]
  },
  {
   "cell_type": "code",
   "execution_count": 6,
   "metadata": {},
   "outputs": [],
   "source": [
    "#House_data.Status = pd.DataFrame({'Status': ['Short Sale' ==1, 'Regular'==2, 'Foreclosure'==3]})\n",
    "\n",
    "#Status_Cat.Status.astype('category').cat.codes\n"
   ]
  },
  {
   "cell_type": "code",
   "execution_count": 7,
   "metadata": {},
   "outputs": [
    {
     "data": {
      "text/html": [
       "<div>\n",
       "<style scoped>\n",
       "    .dataframe tbody tr th:only-of-type {\n",
       "        vertical-align: middle;\n",
       "    }\n",
       "\n",
       "    .dataframe tbody tr th {\n",
       "        vertical-align: top;\n",
       "    }\n",
       "\n",
       "    .dataframe thead th {\n",
       "        text-align: right;\n",
       "    }\n",
       "</style>\n",
       "<table border=\"1\" class=\"dataframe\">\n",
       "  <thead>\n",
       "    <tr style=\"text-align: right;\">\n",
       "      <th></th>\n",
       "      <th>MLS#</th>\n",
       "      <th>Location</th>\n",
       "      <th>Price</th>\n",
       "      <th>Bedrooms</th>\n",
       "      <th>Bathrooms</th>\n",
       "      <th>SQFT</th>\n",
       "      <th>Price/SQFT</th>\n",
       "      <th>Status</th>\n",
       "    </tr>\n",
       "  </thead>\n",
       "  <tbody>\n",
       "    <tr>\n",
       "      <th>0</th>\n",
       "      <td>132842</td>\n",
       "      <td>Arroyo Grande</td>\n",
       "      <td>795000</td>\n",
       "      <td>3</td>\n",
       "      <td>3</td>\n",
       "      <td>2371</td>\n",
       "      <td>335.30</td>\n",
       "      <td>Short Sale</td>\n",
       "    </tr>\n",
       "    <tr>\n",
       "      <th>1</th>\n",
       "      <td>134364</td>\n",
       "      <td>Paso Robles</td>\n",
       "      <td>399000</td>\n",
       "      <td>4</td>\n",
       "      <td>3</td>\n",
       "      <td>2818</td>\n",
       "      <td>141.59</td>\n",
       "      <td>Short Sale</td>\n",
       "    </tr>\n",
       "    <tr>\n",
       "      <th>2</th>\n",
       "      <td>135141</td>\n",
       "      <td>Paso Robles</td>\n",
       "      <td>545000</td>\n",
       "      <td>4</td>\n",
       "      <td>3</td>\n",
       "      <td>3032</td>\n",
       "      <td>179.75</td>\n",
       "      <td>Short Sale</td>\n",
       "    </tr>\n",
       "    <tr>\n",
       "      <th>3</th>\n",
       "      <td>135712</td>\n",
       "      <td>Morro Bay</td>\n",
       "      <td>909000</td>\n",
       "      <td>4</td>\n",
       "      <td>4</td>\n",
       "      <td>3540</td>\n",
       "      <td>256.78</td>\n",
       "      <td>Short Sale</td>\n",
       "    </tr>\n",
       "    <tr>\n",
       "      <th>4</th>\n",
       "      <td>136282</td>\n",
       "      <td>Santa Maria-Orcutt</td>\n",
       "      <td>109900</td>\n",
       "      <td>3</td>\n",
       "      <td>1</td>\n",
       "      <td>1249</td>\n",
       "      <td>87.99</td>\n",
       "      <td>Short Sale</td>\n",
       "    </tr>\n",
       "    <tr>\n",
       "      <th>...</th>\n",
       "      <td>...</td>\n",
       "      <td>...</td>\n",
       "      <td>...</td>\n",
       "      <td>...</td>\n",
       "      <td>...</td>\n",
       "      <td>...</td>\n",
       "      <td>...</td>\n",
       "      <td>...</td>\n",
       "    </tr>\n",
       "    <tr>\n",
       "      <th>776</th>\n",
       "      <td>154562</td>\n",
       "      <td>Paso Robles</td>\n",
       "      <td>319900</td>\n",
       "      <td>3</td>\n",
       "      <td>3</td>\n",
       "      <td>1605</td>\n",
       "      <td>199.31</td>\n",
       "      <td>Regular</td>\n",
       "    </tr>\n",
       "    <tr>\n",
       "      <th>777</th>\n",
       "      <td>154565</td>\n",
       "      <td>Paso Robles</td>\n",
       "      <td>495000</td>\n",
       "      <td>3</td>\n",
       "      <td>2</td>\n",
       "      <td>1877</td>\n",
       "      <td>263.72</td>\n",
       "      <td>Regular</td>\n",
       "    </tr>\n",
       "    <tr>\n",
       "      <th>778</th>\n",
       "      <td>154566</td>\n",
       "      <td>San Luis Obispo</td>\n",
       "      <td>372000</td>\n",
       "      <td>3</td>\n",
       "      <td>2</td>\n",
       "      <td>1104</td>\n",
       "      <td>336.96</td>\n",
       "      <td>Foreclosure</td>\n",
       "    </tr>\n",
       "    <tr>\n",
       "      <th>779</th>\n",
       "      <td>154575</td>\n",
       "      <td>Arroyo Grande</td>\n",
       "      <td>589000</td>\n",
       "      <td>3</td>\n",
       "      <td>2</td>\n",
       "      <td>1975</td>\n",
       "      <td>298.23</td>\n",
       "      <td>Regular</td>\n",
       "    </tr>\n",
       "    <tr>\n",
       "      <th>780</th>\n",
       "      <td>154580</td>\n",
       "      <td>Cambria</td>\n",
       "      <td>1100000</td>\n",
       "      <td>3</td>\n",
       "      <td>3</td>\n",
       "      <td>2392</td>\n",
       "      <td>459.87</td>\n",
       "      <td>Regular</td>\n",
       "    </tr>\n",
       "  </tbody>\n",
       "</table>\n",
       "<p>781 rows × 8 columns</p>\n",
       "</div>"
      ],
      "text/plain": [
       "       MLS#            Location    Price  Bedrooms  Bathrooms  SQFT  \\\n",
       "0    132842       Arroyo Grande   795000         3          3  2371   \n",
       "1    134364         Paso Robles   399000         4          3  2818   \n",
       "2    135141         Paso Robles   545000         4          3  3032   \n",
       "3    135712           Morro Bay   909000         4          4  3540   \n",
       "4    136282  Santa Maria-Orcutt   109900         3          1  1249   \n",
       "..      ...                 ...      ...       ...        ...   ...   \n",
       "776  154562         Paso Robles   319900         3          3  1605   \n",
       "777  154565         Paso Robles   495000         3          2  1877   \n",
       "778  154566     San Luis Obispo   372000         3          2  1104   \n",
       "779  154575       Arroyo Grande   589000         3          2  1975   \n",
       "780  154580             Cambria  1100000         3          3  2392   \n",
       "\n",
       "     Price/SQFT       Status  \n",
       "0        335.30   Short Sale  \n",
       "1        141.59   Short Sale  \n",
       "2        179.75   Short Sale  \n",
       "3        256.78   Short Sale  \n",
       "4         87.99   Short Sale  \n",
       "..          ...          ...  \n",
       "776      199.31      Regular  \n",
       "777      263.72      Regular  \n",
       "778      336.96  Foreclosure  \n",
       "779      298.23      Regular  \n",
       "780      459.87      Regular  \n",
       "\n",
       "[781 rows x 8 columns]"
      ]
     },
     "execution_count": 7,
     "metadata": {},
     "output_type": "execute_result"
    }
   ],
   "source": [
    "House_data"
   ]
  },
  {
   "cell_type": "markdown",
   "metadata": {},
   "source": [
    "Dropping Columns that are not relevant for the Regression analysis."
   ]
  },
  {
   "cell_type": "code",
   "execution_count": 8,
   "metadata": {},
   "outputs": [
    {
     "data": {
      "text/html": [
       "<div>\n",
       "<style scoped>\n",
       "    .dataframe tbody tr th:only-of-type {\n",
       "        vertical-align: middle;\n",
       "    }\n",
       "\n",
       "    .dataframe tbody tr th {\n",
       "        vertical-align: top;\n",
       "    }\n",
       "\n",
       "    .dataframe thead th {\n",
       "        text-align: right;\n",
       "    }\n",
       "</style>\n",
       "<table border=\"1\" class=\"dataframe\">\n",
       "  <thead>\n",
       "    <tr style=\"text-align: right;\">\n",
       "      <th></th>\n",
       "      <th>Price</th>\n",
       "      <th>Bedrooms</th>\n",
       "      <th>Bathrooms</th>\n",
       "      <th>SQFT</th>\n",
       "      <th>Price/SQFT</th>\n",
       "    </tr>\n",
       "  </thead>\n",
       "  <tbody>\n",
       "    <tr>\n",
       "      <th>0</th>\n",
       "      <td>795000</td>\n",
       "      <td>3</td>\n",
       "      <td>3</td>\n",
       "      <td>2371</td>\n",
       "      <td>335.30</td>\n",
       "    </tr>\n",
       "    <tr>\n",
       "      <th>1</th>\n",
       "      <td>399000</td>\n",
       "      <td>4</td>\n",
       "      <td>3</td>\n",
       "      <td>2818</td>\n",
       "      <td>141.59</td>\n",
       "    </tr>\n",
       "    <tr>\n",
       "      <th>2</th>\n",
       "      <td>545000</td>\n",
       "      <td>4</td>\n",
       "      <td>3</td>\n",
       "      <td>3032</td>\n",
       "      <td>179.75</td>\n",
       "    </tr>\n",
       "    <tr>\n",
       "      <th>3</th>\n",
       "      <td>909000</td>\n",
       "      <td>4</td>\n",
       "      <td>4</td>\n",
       "      <td>3540</td>\n",
       "      <td>256.78</td>\n",
       "    </tr>\n",
       "    <tr>\n",
       "      <th>4</th>\n",
       "      <td>109900</td>\n",
       "      <td>3</td>\n",
       "      <td>1</td>\n",
       "      <td>1249</td>\n",
       "      <td>87.99</td>\n",
       "    </tr>\n",
       "    <tr>\n",
       "      <th>...</th>\n",
       "      <td>...</td>\n",
       "      <td>...</td>\n",
       "      <td>...</td>\n",
       "      <td>...</td>\n",
       "      <td>...</td>\n",
       "    </tr>\n",
       "    <tr>\n",
       "      <th>776</th>\n",
       "      <td>319900</td>\n",
       "      <td>3</td>\n",
       "      <td>3</td>\n",
       "      <td>1605</td>\n",
       "      <td>199.31</td>\n",
       "    </tr>\n",
       "    <tr>\n",
       "      <th>777</th>\n",
       "      <td>495000</td>\n",
       "      <td>3</td>\n",
       "      <td>2</td>\n",
       "      <td>1877</td>\n",
       "      <td>263.72</td>\n",
       "    </tr>\n",
       "    <tr>\n",
       "      <th>778</th>\n",
       "      <td>372000</td>\n",
       "      <td>3</td>\n",
       "      <td>2</td>\n",
       "      <td>1104</td>\n",
       "      <td>336.96</td>\n",
       "    </tr>\n",
       "    <tr>\n",
       "      <th>779</th>\n",
       "      <td>589000</td>\n",
       "      <td>3</td>\n",
       "      <td>2</td>\n",
       "      <td>1975</td>\n",
       "      <td>298.23</td>\n",
       "    </tr>\n",
       "    <tr>\n",
       "      <th>780</th>\n",
       "      <td>1100000</td>\n",
       "      <td>3</td>\n",
       "      <td>3</td>\n",
       "      <td>2392</td>\n",
       "      <td>459.87</td>\n",
       "    </tr>\n",
       "  </tbody>\n",
       "</table>\n",
       "<p>781 rows × 5 columns</p>\n",
       "</div>"
      ],
      "text/plain": [
       "       Price  Bedrooms  Bathrooms  SQFT  Price/SQFT\n",
       "0     795000         3          3  2371      335.30\n",
       "1     399000         4          3  2818      141.59\n",
       "2     545000         4          3  3032      179.75\n",
       "3     909000         4          4  3540      256.78\n",
       "4     109900         3          1  1249       87.99\n",
       "..       ...       ...        ...   ...         ...\n",
       "776   319900         3          3  1605      199.31\n",
       "777   495000         3          2  1877      263.72\n",
       "778   372000         3          2  1104      336.96\n",
       "779   589000         3          2  1975      298.23\n",
       "780  1100000         3          3  2392      459.87\n",
       "\n",
       "[781 rows x 5 columns]"
      ]
     },
     "execution_count": 8,
     "metadata": {},
     "output_type": "execute_result"
    }
   ],
   "source": [
    "House_data = House_data.drop(columns=['MLS#', 'Location','Status'], axis=1)\n",
    "House_data"
   ]
  },
  {
   "cell_type": "markdown",
   "metadata": {},
   "source": [
    "Lets Check for Missing Data"
   ]
  },
  {
   "cell_type": "code",
   "execution_count": 9,
   "metadata": {},
   "outputs": [
    {
     "data": {
      "text/plain": [
       "Price         0\n",
       "Bedrooms      0\n",
       "Bathrooms     0\n",
       "SQFT          0\n",
       "Price/SQFT    0\n",
       "dtype: int64"
      ]
     },
     "execution_count": 9,
     "metadata": {},
     "output_type": "execute_result"
    }
   ],
   "source": [
    "House_data.isna().sum()"
   ]
  },
  {
   "cell_type": "markdown",
   "metadata": {},
   "source": [
    "There are no missing data. We will now visualise the relationship between price and the other variables"
   ]
  },
  {
   "cell_type": "code",
   "execution_count": 10,
   "metadata": {},
   "outputs": [
    {
     "data": {
      "image/png": "[encoded data removed]",
      "text/plain": [
       "<Figure size 360x360 with 1 Axes>"
      ]
     },
     "metadata": {
      "needs_background": "light"
     },
     "output_type": "display_data"
    }
   ],
   "source": [
    "fig=sbn.lmplot(x='Price',y='Bedrooms',data=House_data)\n",
    "plt.title(\"Number of Bedrooms  VS Price of House\")\n",
    "plt.show()"
   ]
  },
  {
   "cell_type": "markdown",
   "metadata": {},
   "source": [
    "The graph above shows that the number of bedrooms in a house relatively affect its price"
   ]
  },
  {
   "cell_type": "code",
   "execution_count": 11,
   "metadata": {},
   "outputs": [
    {
     "data": {
      "image/png": "[encoded data removed]",
      "text/plain": [
       "<Figure size 360x360 with 1 Axes>"
      ]
     },
     "metadata": {
      "needs_background": "light"
     },
     "output_type": "display_data"
    }
   ],
   "source": [
    "fig=sbn.lmplot(x='Price',y='Bathrooms',data=House_data)\n",
    "plt.title(\"Number of Bathrooms  VS Price of House\")\n",
    "plt.show()"
   ]
  },
  {
   "cell_type": "markdown",
   "metadata": {},
   "source": [
    "The graph above shows that the number of bathrooms in a house affect the price"
   ]
  },
  {
   "cell_type": "code",
   "execution_count": 12,
   "metadata": {},
   "outputs": [
    {
     "data": {
      "image/png": "[encoded data removed]",
      "text/plain": [
       "<Figure size 360x360 with 1 Axes>"
      ]
     },
     "metadata": {
      "needs_background": "light"
     },
     "output_type": "display_data"
    }
   ],
   "source": [
    "fig=sbn.lmplot(x='Price',y='SQFT',data=House_data)\n",
    "plt.title(\"Square Meters  VS Price of House\")\n",
    "plt.show()"
   ]
  },
  {
   "cell_type": "code",
   "execution_count": 13,
   "metadata": {},
   "outputs": [
    {
     "data": {
      "image/png": "[encoded data removed]",
      "text/plain": [
       "<Figure size 360x360 with 1 Axes>"
      ]
     },
     "metadata": {
      "needs_background": "light"
     },
     "output_type": "display_data"
    }
   ],
   "source": [
    "fig=sbn.lmplot(x='Price',y='Price/SQFT',data=House_data)\n",
    "plt.title(\"Price per Squremeters of land  VS Price of House\")\n",
    "plt.show()"
   ]
  },
  {
   "cell_type": "markdown",
   "metadata": {},
   "source": [
    "The graph above shows that the size of the square meters occupied by a house also affects its price"
   ]
  },
  {
   "cell_type": "markdown",
   "metadata": {},
   "source": [
    "Checking for the correlation between variables"
   ]
  },
  {
   "cell_type": "code",
   "execution_count": 14,
   "metadata": {},
   "outputs": [
    {
     "data": {
      "text/plain": [
       "<matplotlib.axes._subplots.AxesSubplot at 0x232a7ea9508>"
      ]
     },
     "execution_count": 14,
     "metadata": {},
     "output_type": "execute_result"
    },
    {
     "data": {
      "image/png": "[encoded data removed]",
      "text/plain": [
       "<Figure size 1080x720 with 2 Axes>"
      ]
     },
     "metadata": {
      "needs_background": "light"
     },
     "output_type": "display_data"
    }
   ],
   "source": [
    "plt.figure(figsize=(15,10))\n",
    "sbn.heatmap(House_data.corr(), annot=True)"
   ]
  },
  {
   "cell_type": "markdown",
   "metadata": {},
   "source": [
    "From the heatmap we can tell that the price of a house is majorly dependant on the Square Feet of land area occupied by the house and the price per square feet which is greatly determined by the location of the land."
   ]
  },
  {
   "cell_type": "code",
   "execution_count": 15,
   "metadata": {},
   "outputs": [
    {
     "data": {
      "text/html": [
       "<div>\n",
       "<style scoped>\n",
       "    .dataframe tbody tr th:only-of-type {\n",
       "        vertical-align: middle;\n",
       "    }\n",
       "\n",
       "    .dataframe tbody tr th {\n",
       "        vertical-align: top;\n",
       "    }\n",
       "\n",
       "    .dataframe thead th {\n",
       "        text-align: right;\n",
       "    }\n",
       "</style>\n",
       "<table border=\"1\" class=\"dataframe\">\n",
       "  <thead>\n",
       "    <tr style=\"text-align: right;\">\n",
       "      <th></th>\n",
       "      <th>Price</th>\n",
       "      <th>Bedrooms</th>\n",
       "      <th>Bathrooms</th>\n",
       "      <th>SQFT</th>\n",
       "      <th>Price/SQFT</th>\n",
       "    </tr>\n",
       "  </thead>\n",
       "  <tbody>\n",
       "    <tr>\n",
       "      <th>count</th>\n",
       "      <td>7.810000e+02</td>\n",
       "      <td>781.000000</td>\n",
       "      <td>781.000000</td>\n",
       "      <td>781.000000</td>\n",
       "      <td>781.000000</td>\n",
       "    </tr>\n",
       "    <tr>\n",
       "      <th>mean</th>\n",
       "      <td>3.833291e+05</td>\n",
       "      <td>3.142125</td>\n",
       "      <td>2.355954</td>\n",
       "      <td>1755.058899</td>\n",
       "      <td>213.131293</td>\n",
       "    </tr>\n",
       "    <tr>\n",
       "      <th>std</th>\n",
       "      <td>3.490381e+05</td>\n",
       "      <td>0.855768</td>\n",
       "      <td>0.846596</td>\n",
       "      <td>819.577603</td>\n",
       "      <td>115.082146</td>\n",
       "    </tr>\n",
       "    <tr>\n",
       "      <th>min</th>\n",
       "      <td>2.650000e+04</td>\n",
       "      <td>0.000000</td>\n",
       "      <td>1.000000</td>\n",
       "      <td>120.000000</td>\n",
       "      <td>19.330000</td>\n",
       "    </tr>\n",
       "    <tr>\n",
       "      <th>25%</th>\n",
       "      <td>1.990000e+05</td>\n",
       "      <td>3.000000</td>\n",
       "      <td>2.000000</td>\n",
       "      <td>1218.000000</td>\n",
       "      <td>142.140000</td>\n",
       "    </tr>\n",
       "    <tr>\n",
       "      <th>50%</th>\n",
       "      <td>2.950000e+05</td>\n",
       "      <td>3.000000</td>\n",
       "      <td>2.000000</td>\n",
       "      <td>1550.000000</td>\n",
       "      <td>188.360000</td>\n",
       "    </tr>\n",
       "    <tr>\n",
       "      <th>75%</th>\n",
       "      <td>4.290000e+05</td>\n",
       "      <td>4.000000</td>\n",
       "      <td>3.000000</td>\n",
       "      <td>2032.000000</td>\n",
       "      <td>245.420000</td>\n",
       "    </tr>\n",
       "    <tr>\n",
       "      <th>max</th>\n",
       "      <td>5.499000e+06</td>\n",
       "      <td>10.000000</td>\n",
       "      <td>11.000000</td>\n",
       "      <td>6800.000000</td>\n",
       "      <td>1144.640000</td>\n",
       "    </tr>\n",
       "  </tbody>\n",
       "</table>\n",
       "</div>"
      ],
      "text/plain": [
       "              Price    Bedrooms   Bathrooms         SQFT   Price/SQFT\n",
       "count  7.810000e+02  781.000000  781.000000   781.000000   781.000000\n",
       "mean   3.833291e+05    3.142125    2.355954  1755.058899   213.131293\n",
       "std    3.490381e+05    0.855768    0.846596   819.577603   115.082146\n",
       "min    2.650000e+04    0.000000    1.000000   120.000000    19.330000\n",
       "25%    1.990000e+05    3.000000    2.000000  1218.000000   142.140000\n",
       "50%    2.950000e+05    3.000000    2.000000  1550.000000   188.360000\n",
       "75%    4.290000e+05    4.000000    3.000000  2032.000000   245.420000\n",
       "max    5.499000e+06   10.000000   11.000000  6800.000000  1144.640000"
      ]
     },
     "execution_count": 15,
     "metadata": {},
     "output_type": "execute_result"
    }
   ],
   "source": [
    "House_data.describe()"
   ]
  },
  {
   "cell_type": "markdown",
   "metadata": {},
   "source": [
    "Using IQR score to fitter our Outliers"
   ]
  },
  {
   "cell_type": "code",
   "execution_count": 16,
   "metadata": {},
   "outputs": [
    {
     "name": "stdout",
     "output_type": "stream",
     "text": [
      "Price         230000.00\n",
      "Bedrooms           1.00\n",
      "Bathrooms          1.00\n",
      "SQFT             814.00\n",
      "Price/SQFT       103.28\n",
      "dtype: float64\n"
     ]
    }
   ],
   "source": [
    "Q1 = House_data.quantile(0.25)\n",
    "Q3 = House_data.quantile(0.75)\n",
    "IQR = Q3 - Q1\n",
    "print(IQR)"
   ]
  },
  {
   "cell_type": "code",
   "execution_count": 17,
   "metadata": {},
   "outputs": [
    {
     "data": {
      "text/plain": [
       "(781, 5)"
      ]
     },
     "execution_count": 17,
     "metadata": {},
     "output_type": "execute_result"
    }
   ],
   "source": [
    "House_data_shaped = House_data[~((House_data < (Q1 - 1.5 * IQR)) |(House_data > (Q3 + 1.5 * IQR))).any(axis=1)]\n",
    "House_data.shape"
   ]
  },
  {
   "cell_type": "markdown",
   "metadata": {},
   "source": [
    "From the above, the seems to be no outliers in the data to remove, thus oour number of rows remain 781"
   ]
  },
  {
   "cell_type": "markdown",
   "metadata": {},
   "source": [
    "## splitting dataset into train and test"
   ]
  },
  {
   "cell_type": "markdown",
   "metadata": {},
   "source": [
    "Splitting dataset into x and y variables where the x=independent and y=dependent variable"
   ]
  },
  {
   "cell_type": "code",
   "execution_count": 18,
   "metadata": {},
   "outputs": [],
   "source": [
    "y = House_data['Price']\n",
    "x = House_data.drop(columns=['Price'], axis=1)"
   ]
  },
  {
   "cell_type": "markdown",
   "metadata": {},
   "source": [
    "Converting independent variable from series to numpy array and reshaping it from 1D array to a 2D array"
   ]
  },
  {
   "cell_type": "code",
   "execution_count": 19,
   "metadata": {},
   "outputs": [],
   "source": [
    "y_1 = y.to_numpy().reshape((-1, 1))"
   ]
  },
  {
   "cell_type": "code",
   "execution_count": 20,
   "metadata": {},
   "outputs": [],
   "source": [
    "X_train, X_test, y_train, y_test = train_test_split(x, y_1, test_size=.20, random_state=50 )"
   ]
  },
  {
   "cell_type": "markdown",
   "metadata": {},
   "source": [
    "Fitting the Model"
   ]
  },
  {
   "cell_type": "code",
   "execution_count": 21,
   "metadata": {},
   "outputs": [],
   "source": [
    "model = LinearRegression()\n",
    "admin_chance = model.fit(X_train, y_train)"
   ]
  },
  {
   "cell_type": "markdown",
   "metadata": {},
   "source": [
    "Obtaining r_square(Coefficient of determination)"
   ]
  },
  {
   "cell_type": "code",
   "execution_count": 22,
   "metadata": {},
   "outputs": [
    {
     "data": {
      "text/plain": [
       "0.8207856433342664"
      ]
     },
     "execution_count": 22,
     "metadata": {},
     "output_type": "execute_result"
    }
   ],
   "source": [
    "coef_deter = admin_chance.score(X_train, y_train)\n",
    "coef_deter"
   ]
  },
  {
   "cell_type": "markdown",
   "metadata": {},
   "source": [
    "The score shows that the model has 82% chances of predicting the price of a house given the value of the other determining variables"
   ]
  },
  {
   "cell_type": "markdown",
   "metadata": {},
   "source": [
    "Adjusted r_square"
   ]
  },
  {
   "cell_type": "code",
   "execution_count": 23,
   "metadata": {},
   "outputs": [
    {
     "data": {
      "text/plain": [
       "0.8196275537919999"
      ]
     },
     "execution_count": 23,
     "metadata": {},
     "output_type": "execute_result"
    }
   ],
   "source": [
    "1 - (1-model.score(X_train, y_train))*(len(y_train)-1)/(len(y_train)-X_train.shape[1]-1)"
   ]
  },
  {
   "cell_type": "markdown",
   "metadata": {},
   "source": [
    "This shows that even with addition of more variable to the model, the model will still have 82% of predicting the variables"
   ]
  },
  {
   "cell_type": "code",
   "execution_count": 24,
   "metadata": {},
   "outputs": [
    {
     "data": {
      "text/plain": [
       "array([[-3961.72895907, 16523.5023126 ,   237.47826665,  2036.90706485]])"
      ]
     },
     "execution_count": 24,
     "metadata": {},
     "output_type": "execute_result"
    }
   ],
   "source": [
    "intercept = model.coef_\n",
    "intercept"
   ]
  },
  {
   "cell_type": "markdown",
   "metadata": {},
   "source": [
    "The Coefficient above shows that there is a positive relationship between the independent variables and the dependent variable aside from 'Bedrooms' which has a negative relationship with the dependent variable. Which goes to say even with high higher or lower number of bedrooms the price of the house may not be affected."
   ]
  },
  {
   "cell_type": "markdown",
   "metadata": {},
   "source": [
    "Summarily, it is clear from the analysis that the price of houses are greatly determined by the size of the land they occupy and the price per square meters of the the land in addition to some other factors."
   ]
  },
  {
   "cell_type": "markdown",
   "metadata": {},
   "source": [
    "# Predicting Life Expectancy with Regression Analysis"
   ]
  },
  {
   "cell_type": "markdown",
   "metadata": {},
   "source": [
    "### Reading the data"
   ]
  },
  {
   "cell_type": "code",
   "execution_count": 25,
   "metadata": {},
   "outputs": [
    {
     "data": {
      "text/html": [
       "<div>\n",
       "<style scoped>\n",
       "    .dataframe tbody tr th:only-of-type {\n",
       "        vertical-align: middle;\n",
       "    }\n",
       "\n",
       "    .dataframe tbody tr th {\n",
       "        vertical-align: top;\n",
       "    }\n",
       "\n",
       "    .dataframe thead th {\n",
       "        text-align: right;\n",
       "    }\n",
       "</style>\n",
       "<table border=\"1\" class=\"dataframe\">\n",
       "  <thead>\n",
       "    <tr style=\"text-align: right;\">\n",
       "      <th></th>\n",
       "      <th>Country</th>\n",
       "      <th>Year</th>\n",
       "      <th>Status</th>\n",
       "      <th>Life expectancy</th>\n",
       "      <th>Adult Mortality</th>\n",
       "      <th>infant deaths</th>\n",
       "      <th>Alcohol</th>\n",
       "      <th>percentage expenditure</th>\n",
       "      <th>Hepatitis B</th>\n",
       "      <th>Measles</th>\n",
       "      <th>...</th>\n",
       "      <th>Polio</th>\n",
       "      <th>Total expenditure</th>\n",
       "      <th>Diphtheria</th>\n",
       "      <th>HIV/AIDS</th>\n",
       "      <th>GDP</th>\n",
       "      <th>Population</th>\n",
       "      <th>thinness  1-19 years</th>\n",
       "      <th>thinness 5-9 years</th>\n",
       "      <th>Income composition of resources</th>\n",
       "      <th>Schooling</th>\n",
       "    </tr>\n",
       "  </thead>\n",
       "  <tbody>\n",
       "    <tr>\n",
       "      <th>0</th>\n",
       "      <td>Afghanistan</td>\n",
       "      <td>2015</td>\n",
       "      <td>Developing</td>\n",
       "      <td>65.0</td>\n",
       "      <td>263.0</td>\n",
       "      <td>62</td>\n",
       "      <td>0.01</td>\n",
       "      <td>71.279624</td>\n",
       "      <td>65.0</td>\n",
       "      <td>1154</td>\n",
       "      <td>...</td>\n",
       "      <td>6.0</td>\n",
       "      <td>8.16</td>\n",
       "      <td>65.0</td>\n",
       "      <td>0.1</td>\n",
       "      <td>584.259210</td>\n",
       "      <td>33736494.0</td>\n",
       "      <td>17.2</td>\n",
       "      <td>17.3</td>\n",
       "      <td>0.479</td>\n",
       "      <td>10.1</td>\n",
       "    </tr>\n",
       "    <tr>\n",
       "      <th>1</th>\n",
       "      <td>Afghanistan</td>\n",
       "      <td>2014</td>\n",
       "      <td>Developing</td>\n",
       "      <td>59.9</td>\n",
       "      <td>271.0</td>\n",
       "      <td>64</td>\n",
       "      <td>0.01</td>\n",
       "      <td>73.523582</td>\n",
       "      <td>62.0</td>\n",
       "      <td>492</td>\n",
       "      <td>...</td>\n",
       "      <td>58.0</td>\n",
       "      <td>8.18</td>\n",
       "      <td>62.0</td>\n",
       "      <td>0.1</td>\n",
       "      <td>612.696514</td>\n",
       "      <td>327582.0</td>\n",
       "      <td>17.5</td>\n",
       "      <td>17.5</td>\n",
       "      <td>0.476</td>\n",
       "      <td>10.0</td>\n",
       "    </tr>\n",
       "    <tr>\n",
       "      <th>2</th>\n",
       "      <td>Afghanistan</td>\n",
       "      <td>2013</td>\n",
       "      <td>Developing</td>\n",
       "      <td>59.9</td>\n",
       "      <td>268.0</td>\n",
       "      <td>66</td>\n",
       "      <td>0.01</td>\n",
       "      <td>73.219243</td>\n",
       "      <td>64.0</td>\n",
       "      <td>430</td>\n",
       "      <td>...</td>\n",
       "      <td>62.0</td>\n",
       "      <td>8.13</td>\n",
       "      <td>64.0</td>\n",
       "      <td>0.1</td>\n",
       "      <td>631.744976</td>\n",
       "      <td>31731688.0</td>\n",
       "      <td>17.7</td>\n",
       "      <td>17.7</td>\n",
       "      <td>0.470</td>\n",
       "      <td>9.9</td>\n",
       "    </tr>\n",
       "    <tr>\n",
       "      <th>3</th>\n",
       "      <td>Afghanistan</td>\n",
       "      <td>2012</td>\n",
       "      <td>Developing</td>\n",
       "      <td>59.5</td>\n",
       "      <td>272.0</td>\n",
       "      <td>69</td>\n",
       "      <td>0.01</td>\n",
       "      <td>78.184215</td>\n",
       "      <td>67.0</td>\n",
       "      <td>2787</td>\n",
       "      <td>...</td>\n",
       "      <td>67.0</td>\n",
       "      <td>8.52</td>\n",
       "      <td>67.0</td>\n",
       "      <td>0.1</td>\n",
       "      <td>669.959000</td>\n",
       "      <td>3696958.0</td>\n",
       "      <td>17.9</td>\n",
       "      <td>18.0</td>\n",
       "      <td>0.463</td>\n",
       "      <td>9.8</td>\n",
       "    </tr>\n",
       "    <tr>\n",
       "      <th>4</th>\n",
       "      <td>Afghanistan</td>\n",
       "      <td>2011</td>\n",
       "      <td>Developing</td>\n",
       "      <td>59.2</td>\n",
       "      <td>275.0</td>\n",
       "      <td>71</td>\n",
       "      <td>0.01</td>\n",
       "      <td>7.097109</td>\n",
       "      <td>68.0</td>\n",
       "      <td>3013</td>\n",
       "      <td>...</td>\n",
       "      <td>68.0</td>\n",
       "      <td>7.87</td>\n",
       "      <td>68.0</td>\n",
       "      <td>0.1</td>\n",
       "      <td>63.537231</td>\n",
       "      <td>2978599.0</td>\n",
       "      <td>18.2</td>\n",
       "      <td>18.2</td>\n",
       "      <td>0.454</td>\n",
       "      <td>9.5</td>\n",
       "    </tr>\n",
       "    <tr>\n",
       "      <th>...</th>\n",
       "      <td>...</td>\n",
       "      <td>...</td>\n",
       "      <td>...</td>\n",
       "      <td>...</td>\n",
       "      <td>...</td>\n",
       "      <td>...</td>\n",
       "      <td>...</td>\n",
       "      <td>...</td>\n",
       "      <td>...</td>\n",
       "      <td>...</td>\n",
       "      <td>...</td>\n",
       "      <td>...</td>\n",
       "      <td>...</td>\n",
       "      <td>...</td>\n",
       "      <td>...</td>\n",
       "      <td>...</td>\n",
       "      <td>...</td>\n",
       "      <td>...</td>\n",
       "      <td>...</td>\n",
       "      <td>...</td>\n",
       "      <td>...</td>\n",
       "    </tr>\n",
       "    <tr>\n",
       "      <th>2933</th>\n",
       "      <td>Zimbabwe</td>\n",
       "      <td>2004</td>\n",
       "      <td>Developing</td>\n",
       "      <td>44.3</td>\n",
       "      <td>723.0</td>\n",
       "      <td>27</td>\n",
       "      <td>4.36</td>\n",
       "      <td>0.000000</td>\n",
       "      <td>68.0</td>\n",
       "      <td>31</td>\n",
       "      <td>...</td>\n",
       "      <td>67.0</td>\n",
       "      <td>7.13</td>\n",
       "      <td>65.0</td>\n",
       "      <td>33.6</td>\n",
       "      <td>454.366654</td>\n",
       "      <td>12777511.0</td>\n",
       "      <td>9.4</td>\n",
       "      <td>9.4</td>\n",
       "      <td>0.407</td>\n",
       "      <td>9.2</td>\n",
       "    </tr>\n",
       "    <tr>\n",
       "      <th>2934</th>\n",
       "      <td>Zimbabwe</td>\n",
       "      <td>2003</td>\n",
       "      <td>Developing</td>\n",
       "      <td>44.5</td>\n",
       "      <td>715.0</td>\n",
       "      <td>26</td>\n",
       "      <td>4.06</td>\n",
       "      <td>0.000000</td>\n",
       "      <td>7.0</td>\n",
       "      <td>998</td>\n",
       "      <td>...</td>\n",
       "      <td>7.0</td>\n",
       "      <td>6.52</td>\n",
       "      <td>68.0</td>\n",
       "      <td>36.7</td>\n",
       "      <td>453.351155</td>\n",
       "      <td>12633897.0</td>\n",
       "      <td>9.8</td>\n",
       "      <td>9.9</td>\n",
       "      <td>0.418</td>\n",
       "      <td>9.5</td>\n",
       "    </tr>\n",
       "    <tr>\n",
       "      <th>2935</th>\n",
       "      <td>Zimbabwe</td>\n",
       "      <td>2002</td>\n",
       "      <td>Developing</td>\n",
       "      <td>44.8</td>\n",
       "      <td>73.0</td>\n",
       "      <td>25</td>\n",
       "      <td>4.43</td>\n",
       "      <td>0.000000</td>\n",
       "      <td>73.0</td>\n",
       "      <td>304</td>\n",
       "      <td>...</td>\n",
       "      <td>73.0</td>\n",
       "      <td>6.53</td>\n",
       "      <td>71.0</td>\n",
       "      <td>39.8</td>\n",
       "      <td>57.348340</td>\n",
       "      <td>125525.0</td>\n",
       "      <td>1.2</td>\n",
       "      <td>1.3</td>\n",
       "      <td>0.427</td>\n",
       "      <td>10.0</td>\n",
       "    </tr>\n",
       "    <tr>\n",
       "      <th>2936</th>\n",
       "      <td>Zimbabwe</td>\n",
       "      <td>2001</td>\n",
       "      <td>Developing</td>\n",
       "      <td>45.3</td>\n",
       "      <td>686.0</td>\n",
       "      <td>25</td>\n",
       "      <td>1.72</td>\n",
       "      <td>0.000000</td>\n",
       "      <td>76.0</td>\n",
       "      <td>529</td>\n",
       "      <td>...</td>\n",
       "      <td>76.0</td>\n",
       "      <td>6.16</td>\n",
       "      <td>75.0</td>\n",
       "      <td>42.1</td>\n",
       "      <td>548.587312</td>\n",
       "      <td>12366165.0</td>\n",
       "      <td>1.6</td>\n",
       "      <td>1.7</td>\n",
       "      <td>0.427</td>\n",
       "      <td>9.8</td>\n",
       "    </tr>\n",
       "    <tr>\n",
       "      <th>2937</th>\n",
       "      <td>Zimbabwe</td>\n",
       "      <td>2000</td>\n",
       "      <td>Developing</td>\n",
       "      <td>46.0</td>\n",
       "      <td>665.0</td>\n",
       "      <td>24</td>\n",
       "      <td>1.68</td>\n",
       "      <td>0.000000</td>\n",
       "      <td>79.0</td>\n",
       "      <td>1483</td>\n",
       "      <td>...</td>\n",
       "      <td>78.0</td>\n",
       "      <td>7.10</td>\n",
       "      <td>78.0</td>\n",
       "      <td>43.5</td>\n",
       "      <td>547.358879</td>\n",
       "      <td>12222251.0</td>\n",
       "      <td>11.0</td>\n",
       "      <td>11.2</td>\n",
       "      <td>0.434</td>\n",
       "      <td>9.8</td>\n",
       "    </tr>\n",
       "  </tbody>\n",
       "</table>\n",
       "<p>2938 rows × 22 columns</p>\n",
       "</div>"
      ],
      "text/plain": [
       "          Country  Year      Status  Life expectancy   Adult Mortality  \\\n",
       "0     Afghanistan  2015  Developing              65.0            263.0   \n",
       "1     Afghanistan  2014  Developing              59.9            271.0   \n",
       "2     Afghanistan  2013  Developing              59.9            268.0   \n",
       "3     Afghanistan  2012  Developing              59.5            272.0   \n",
       "4     Afghanistan  2011  Developing              59.2            275.0   \n",
       "...           ...   ...         ...               ...              ...   \n",
       "2933     Zimbabwe  2004  Developing              44.3            723.0   \n",
       "2934     Zimbabwe  2003  Developing              44.5            715.0   \n",
       "2935     Zimbabwe  2002  Developing              44.8             73.0   \n",
       "2936     Zimbabwe  2001  Developing              45.3            686.0   \n",
       "2937     Zimbabwe  2000  Developing              46.0            665.0   \n",
       "\n",
       "      infant deaths  Alcohol  percentage expenditure  Hepatitis B  Measles   \\\n",
       "0                62     0.01               71.279624         65.0      1154   \n",
       "1                64     0.01               73.523582         62.0       492   \n",
       "2                66     0.01               73.219243         64.0       430   \n",
       "3                69     0.01               78.184215         67.0      2787   \n",
       "4                71     0.01                7.097109         68.0      3013   \n",
       "...             ...      ...                     ...          ...       ...   \n",
       "2933             27     4.36                0.000000         68.0        31   \n",
       "2934             26     4.06                0.000000          7.0       998   \n",
       "2935             25     4.43                0.000000         73.0       304   \n",
       "2936             25     1.72                0.000000         76.0       529   \n",
       "2937             24     1.68                0.000000         79.0      1483   \n",
       "\n",
       "      ...  Polio  Total expenditure  Diphtheria    HIV/AIDS         GDP  \\\n",
       "0     ...    6.0               8.16         65.0        0.1  584.259210   \n",
       "1     ...   58.0               8.18         62.0        0.1  612.696514   \n",
       "2     ...   62.0               8.13         64.0        0.1  631.744976   \n",
       "3     ...   67.0               8.52         67.0        0.1  669.959000   \n",
       "4     ...   68.0               7.87         68.0        0.1   63.537231   \n",
       "...   ...    ...                ...          ...        ...         ...   \n",
       "2933  ...   67.0               7.13         65.0       33.6  454.366654   \n",
       "2934  ...    7.0               6.52         68.0       36.7  453.351155   \n",
       "2935  ...   73.0               6.53         71.0       39.8   57.348340   \n",
       "2936  ...   76.0               6.16         75.0       42.1  548.587312   \n",
       "2937  ...   78.0               7.10         78.0       43.5  547.358879   \n",
       "\n",
       "      Population   thinness  1-19 years   thinness 5-9 years  \\\n",
       "0     33736494.0                   17.2                 17.3   \n",
       "1       327582.0                   17.5                 17.5   \n",
       "2     31731688.0                   17.7                 17.7   \n",
       "3      3696958.0                   17.9                 18.0   \n",
       "4      2978599.0                   18.2                 18.2   \n",
       "...          ...                    ...                  ...   \n",
       "2933  12777511.0                    9.4                  9.4   \n",
       "2934  12633897.0                    9.8                  9.9   \n",
       "2935    125525.0                    1.2                  1.3   \n",
       "2936  12366165.0                    1.6                  1.7   \n",
       "2937  12222251.0                   11.0                 11.2   \n",
       "\n",
       "      Income composition of resources  Schooling  \n",
       "0                               0.479       10.1  \n",
       "1                               0.476       10.0  \n",
       "2                               0.470        9.9  \n",
       "3                               0.463        9.8  \n",
       "4                               0.454        9.5  \n",
       "...                               ...        ...  \n",
       "2933                            0.407        9.2  \n",
       "2934                            0.418        9.5  \n",
       "2935                            0.427       10.0  \n",
       "2936                            0.427        9.8  \n",
       "2937                            0.434        9.8  \n",
       "\n",
       "[2938 rows x 22 columns]"
      ]
     },
     "execution_count": 25,
     "metadata": {},
     "output_type": "execute_result"
    }
   ],
   "source": [
    "life_data = pd.read_csv('/Users/user/Desktop/Python project/Life Expectancy Data.csv')\n",
    "life_data"
   ]
  },
  {
   "cell_type": "markdown",
   "metadata": {},
   "source": [
    "The above which originates from W.H.O was meant to evaluate the life expectancy for different countries in years. The data offers a timeframe from 2000 to 2015. \n",
    "\n",
    "With the exclution of Country name and Status(either developed or developing) all of the data is numeric. The values are either in years, precentages, millions or dollars in the case of Gross Domestic Product (GDP)\n",
    "\n",
    "Let us convert the Status column to a categorical veriable"
   ]
  },
  {
   "cell_type": "code",
   "execution_count": 26,
   "metadata": {},
   "outputs": [],
   "source": [
    "status = pd.get_dummies(life_data.Status)"
   ]
  },
  {
   "cell_type": "code",
   "execution_count": 27,
   "metadata": {},
   "outputs": [],
   "source": [
    "life_data = pd.concat([life_data, status], axis = 1)"
   ]
  },
  {
   "cell_type": "code",
   "execution_count": 28,
   "metadata": {},
   "outputs": [],
   "source": [
    "life_data = life_data.drop(['Status'], axis=1) #we drop the 'Status' column"
   ]
  },
  {
   "cell_type": "code",
   "execution_count": 29,
   "metadata": {},
   "outputs": [
    {
     "data": {
      "text/html": [
       "<div>\n",
       "<style scoped>\n",
       "    .dataframe tbody tr th:only-of-type {\n",
       "        vertical-align: middle;\n",
       "    }\n",
       "\n",
       "    .dataframe tbody tr th {\n",
       "        vertical-align: top;\n",
       "    }\n",
       "\n",
       "    .dataframe thead th {\n",
       "        text-align: right;\n",
       "    }\n",
       "</style>\n",
       "<table border=\"1\" class=\"dataframe\">\n",
       "  <thead>\n",
       "    <tr style=\"text-align: right;\">\n",
       "      <th></th>\n",
       "      <th>Country</th>\n",
       "      <th>Year</th>\n",
       "      <th>Life expectancy</th>\n",
       "      <th>Adult Mortality</th>\n",
       "      <th>infant deaths</th>\n",
       "      <th>Alcohol</th>\n",
       "      <th>percentage expenditure</th>\n",
       "      <th>Hepatitis B</th>\n",
       "      <th>Measles</th>\n",
       "      <th>BMI</th>\n",
       "      <th>...</th>\n",
       "      <th>Diphtheria</th>\n",
       "      <th>HIV/AIDS</th>\n",
       "      <th>GDP</th>\n",
       "      <th>Population</th>\n",
       "      <th>thinness  1-19 years</th>\n",
       "      <th>thinness 5-9 years</th>\n",
       "      <th>Income composition of resources</th>\n",
       "      <th>Schooling</th>\n",
       "      <th>1</th>\n",
       "      <th>Developing</th>\n",
       "    </tr>\n",
       "  </thead>\n",
       "  <tbody>\n",
       "    <tr>\n",
       "      <th>0</th>\n",
       "      <td>Afghanistan</td>\n",
       "      <td>2015</td>\n",
       "      <td>65.0</td>\n",
       "      <td>263.0</td>\n",
       "      <td>62</td>\n",
       "      <td>0.01</td>\n",
       "      <td>71.279624</td>\n",
       "      <td>65.0</td>\n",
       "      <td>1154</td>\n",
       "      <td>19.1</td>\n",
       "      <td>...</td>\n",
       "      <td>65.0</td>\n",
       "      <td>0.1</td>\n",
       "      <td>584.259210</td>\n",
       "      <td>33736494.0</td>\n",
       "      <td>17.2</td>\n",
       "      <td>17.3</td>\n",
       "      <td>0.479</td>\n",
       "      <td>10.1</td>\n",
       "      <td>0</td>\n",
       "      <td>1</td>\n",
       "    </tr>\n",
       "    <tr>\n",
       "      <th>1</th>\n",
       "      <td>Afghanistan</td>\n",
       "      <td>2014</td>\n",
       "      <td>59.9</td>\n",
       "      <td>271.0</td>\n",
       "      <td>64</td>\n",
       "      <td>0.01</td>\n",
       "      <td>73.523582</td>\n",
       "      <td>62.0</td>\n",
       "      <td>492</td>\n",
       "      <td>18.6</td>\n",
       "      <td>...</td>\n",
       "      <td>62.0</td>\n",
       "      <td>0.1</td>\n",
       "      <td>612.696514</td>\n",
       "      <td>327582.0</td>\n",
       "      <td>17.5</td>\n",
       "      <td>17.5</td>\n",
       "      <td>0.476</td>\n",
       "      <td>10.0</td>\n",
       "      <td>0</td>\n",
       "      <td>1</td>\n",
       "    </tr>\n",
       "    <tr>\n",
       "      <th>2</th>\n",
       "      <td>Afghanistan</td>\n",
       "      <td>2013</td>\n",
       "      <td>59.9</td>\n",
       "      <td>268.0</td>\n",
       "      <td>66</td>\n",
       "      <td>0.01</td>\n",
       "      <td>73.219243</td>\n",
       "      <td>64.0</td>\n",
       "      <td>430</td>\n",
       "      <td>18.1</td>\n",
       "      <td>...</td>\n",
       "      <td>64.0</td>\n",
       "      <td>0.1</td>\n",
       "      <td>631.744976</td>\n",
       "      <td>31731688.0</td>\n",
       "      <td>17.7</td>\n",
       "      <td>17.7</td>\n",
       "      <td>0.470</td>\n",
       "      <td>9.9</td>\n",
       "      <td>0</td>\n",
       "      <td>1</td>\n",
       "    </tr>\n",
       "    <tr>\n",
       "      <th>3</th>\n",
       "      <td>Afghanistan</td>\n",
       "      <td>2012</td>\n",
       "      <td>59.5</td>\n",
       "      <td>272.0</td>\n",
       "      <td>69</td>\n",
       "      <td>0.01</td>\n",
       "      <td>78.184215</td>\n",
       "      <td>67.0</td>\n",
       "      <td>2787</td>\n",
       "      <td>17.6</td>\n",
       "      <td>...</td>\n",
       "      <td>67.0</td>\n",
       "      <td>0.1</td>\n",
       "      <td>669.959000</td>\n",
       "      <td>3696958.0</td>\n",
       "      <td>17.9</td>\n",
       "      <td>18.0</td>\n",
       "      <td>0.463</td>\n",
       "      <td>9.8</td>\n",
       "      <td>0</td>\n",
       "      <td>1</td>\n",
       "    </tr>\n",
       "    <tr>\n",
       "      <th>4</th>\n",
       "      <td>Afghanistan</td>\n",
       "      <td>2011</td>\n",
       "      <td>59.2</td>\n",
       "      <td>275.0</td>\n",
       "      <td>71</td>\n",
       "      <td>0.01</td>\n",
       "      <td>7.097109</td>\n",
       "      <td>68.0</td>\n",
       "      <td>3013</td>\n",
       "      <td>17.2</td>\n",
       "      <td>...</td>\n",
       "      <td>68.0</td>\n",
       "      <td>0.1</td>\n",
       "      <td>63.537231</td>\n",
       "      <td>2978599.0</td>\n",
       "      <td>18.2</td>\n",
       "      <td>18.2</td>\n",
       "      <td>0.454</td>\n",
       "      <td>9.5</td>\n",
       "      <td>0</td>\n",
       "      <td>1</td>\n",
       "    </tr>\n",
       "    <tr>\n",
       "      <th>...</th>\n",
       "      <td>...</td>\n",
       "      <td>...</td>\n",
       "      <td>...</td>\n",
       "      <td>...</td>\n",
       "      <td>...</td>\n",
       "      <td>...</td>\n",
       "      <td>...</td>\n",
       "      <td>...</td>\n",
       "      <td>...</td>\n",
       "      <td>...</td>\n",
       "      <td>...</td>\n",
       "      <td>...</td>\n",
       "      <td>...</td>\n",
       "      <td>...</td>\n",
       "      <td>...</td>\n",
       "      <td>...</td>\n",
       "      <td>...</td>\n",
       "      <td>...</td>\n",
       "      <td>...</td>\n",
       "      <td>...</td>\n",
       "      <td>...</td>\n",
       "    </tr>\n",
       "    <tr>\n",
       "      <th>2933</th>\n",
       "      <td>Zimbabwe</td>\n",
       "      <td>2004</td>\n",
       "      <td>44.3</td>\n",
       "      <td>723.0</td>\n",
       "      <td>27</td>\n",
       "      <td>4.36</td>\n",
       "      <td>0.000000</td>\n",
       "      <td>68.0</td>\n",
       "      <td>31</td>\n",
       "      <td>27.1</td>\n",
       "      <td>...</td>\n",
       "      <td>65.0</td>\n",
       "      <td>33.6</td>\n",
       "      <td>454.366654</td>\n",
       "      <td>12777511.0</td>\n",
       "      <td>9.4</td>\n",
       "      <td>9.4</td>\n",
       "      <td>0.407</td>\n",
       "      <td>9.2</td>\n",
       "      <td>0</td>\n",
       "      <td>1</td>\n",
       "    </tr>\n",
       "    <tr>\n",
       "      <th>2934</th>\n",
       "      <td>Zimbabwe</td>\n",
       "      <td>2003</td>\n",
       "      <td>44.5</td>\n",
       "      <td>715.0</td>\n",
       "      <td>26</td>\n",
       "      <td>4.06</td>\n",
       "      <td>0.000000</td>\n",
       "      <td>7.0</td>\n",
       "      <td>998</td>\n",
       "      <td>26.7</td>\n",
       "      <td>...</td>\n",
       "      <td>68.0</td>\n",
       "      <td>36.7</td>\n",
       "      <td>453.351155</td>\n",
       "      <td>12633897.0</td>\n",
       "      <td>9.8</td>\n",
       "      <td>9.9</td>\n",
       "      <td>0.418</td>\n",
       "      <td>9.5</td>\n",
       "      <td>0</td>\n",
       "      <td>1</td>\n",
       "    </tr>\n",
       "    <tr>\n",
       "      <th>2935</th>\n",
       "      <td>Zimbabwe</td>\n",
       "      <td>2002</td>\n",
       "      <td>44.8</td>\n",
       "      <td>73.0</td>\n",
       "      <td>25</td>\n",
       "      <td>4.43</td>\n",
       "      <td>0.000000</td>\n",
       "      <td>73.0</td>\n",
       "      <td>304</td>\n",
       "      <td>26.3</td>\n",
       "      <td>...</td>\n",
       "      <td>71.0</td>\n",
       "      <td>39.8</td>\n",
       "      <td>57.348340</td>\n",
       "      <td>125525.0</td>\n",
       "      <td>1.2</td>\n",
       "      <td>1.3</td>\n",
       "      <td>0.427</td>\n",
       "      <td>10.0</td>\n",
       "      <td>0</td>\n",
       "      <td>1</td>\n",
       "    </tr>\n",
       "    <tr>\n",
       "      <th>2936</th>\n",
       "      <td>Zimbabwe</td>\n",
       "      <td>2001</td>\n",
       "      <td>45.3</td>\n",
       "      <td>686.0</td>\n",
       "      <td>25</td>\n",
       "      <td>1.72</td>\n",
       "      <td>0.000000</td>\n",
       "      <td>76.0</td>\n",
       "      <td>529</td>\n",
       "      <td>25.9</td>\n",
       "      <td>...</td>\n",
       "      <td>75.0</td>\n",
       "      <td>42.1</td>\n",
       "      <td>548.587312</td>\n",
       "      <td>12366165.0</td>\n",
       "      <td>1.6</td>\n",
       "      <td>1.7</td>\n",
       "      <td>0.427</td>\n",
       "      <td>9.8</td>\n",
       "      <td>0</td>\n",
       "      <td>1</td>\n",
       "    </tr>\n",
       "    <tr>\n",
       "      <th>2937</th>\n",
       "      <td>Zimbabwe</td>\n",
       "      <td>2000</td>\n",
       "      <td>46.0</td>\n",
       "      <td>665.0</td>\n",
       "      <td>24</td>\n",
       "      <td>1.68</td>\n",
       "      <td>0.000000</td>\n",
       "      <td>79.0</td>\n",
       "      <td>1483</td>\n",
       "      <td>25.5</td>\n",
       "      <td>...</td>\n",
       "      <td>78.0</td>\n",
       "      <td>43.5</td>\n",
       "      <td>547.358879</td>\n",
       "      <td>12222251.0</td>\n",
       "      <td>11.0</td>\n",
       "      <td>11.2</td>\n",
       "      <td>0.434</td>\n",
       "      <td>9.8</td>\n",
       "      <td>0</td>\n",
       "      <td>1</td>\n",
       "    </tr>\n",
       "  </tbody>\n",
       "</table>\n",
       "<p>2938 rows × 23 columns</p>\n",
       "</div>"
      ],
      "text/plain": [
       "          Country  Year  Life expectancy   Adult Mortality  infant deaths  \\\n",
       "0     Afghanistan  2015              65.0            263.0             62   \n",
       "1     Afghanistan  2014              59.9            271.0             64   \n",
       "2     Afghanistan  2013              59.9            268.0             66   \n",
       "3     Afghanistan  2012              59.5            272.0             69   \n",
       "4     Afghanistan  2011              59.2            275.0             71   \n",
       "...           ...   ...               ...              ...            ...   \n",
       "2933     Zimbabwe  2004              44.3            723.0             27   \n",
       "2934     Zimbabwe  2003              44.5            715.0             26   \n",
       "2935     Zimbabwe  2002              44.8             73.0             25   \n",
       "2936     Zimbabwe  2001              45.3            686.0             25   \n",
       "2937     Zimbabwe  2000              46.0            665.0             24   \n",
       "\n",
       "      Alcohol  percentage expenditure  Hepatitis B  Measles    BMI   ...  \\\n",
       "0        0.01               71.279624         65.0      1154   19.1  ...   \n",
       "1        0.01               73.523582         62.0       492   18.6  ...   \n",
       "2        0.01               73.219243         64.0       430   18.1  ...   \n",
       "3        0.01               78.184215         67.0      2787   17.6  ...   \n",
       "4        0.01                7.097109         68.0      3013   17.2  ...   \n",
       "...       ...                     ...          ...       ...    ...  ...   \n",
       "2933     4.36                0.000000         68.0        31   27.1  ...   \n",
       "2934     4.06                0.000000          7.0       998   26.7  ...   \n",
       "2935     4.43                0.000000         73.0       304   26.3  ...   \n",
       "2936     1.72                0.000000         76.0       529   25.9  ...   \n",
       "2937     1.68                0.000000         79.0      1483   25.5  ...   \n",
       "\n",
       "      Diphtheria    HIV/AIDS         GDP  Population   thinness  1-19 years  \\\n",
       "0            65.0        0.1  584.259210  33736494.0                   17.2   \n",
       "1            62.0        0.1  612.696514    327582.0                   17.5   \n",
       "2            64.0        0.1  631.744976  31731688.0                   17.7   \n",
       "3            67.0        0.1  669.959000   3696958.0                   17.9   \n",
       "4            68.0        0.1   63.537231   2978599.0                   18.2   \n",
       "...           ...        ...         ...         ...                    ...   \n",
       "2933         65.0       33.6  454.366654  12777511.0                    9.4   \n",
       "2934         68.0       36.7  453.351155  12633897.0                    9.8   \n",
       "2935         71.0       39.8   57.348340    125525.0                    1.2   \n",
       "2936         75.0       42.1  548.587312  12366165.0                    1.6   \n",
       "2937         78.0       43.5  547.358879  12222251.0                   11.0   \n",
       "\n",
       "       thinness 5-9 years  Income composition of resources  Schooling  1  \\\n",
       "0                    17.3                            0.479       10.1  0   \n",
       "1                    17.5                            0.476       10.0  0   \n",
       "2                    17.7                            0.470        9.9  0   \n",
       "3                    18.0                            0.463        9.8  0   \n",
       "4                    18.2                            0.454        9.5  0   \n",
       "...                   ...                              ...        ... ..   \n",
       "2933                  9.4                            0.407        9.2  0   \n",
       "2934                  9.9                            0.418        9.5  0   \n",
       "2935                  1.3                            0.427       10.0  0   \n",
       "2936                  1.7                            0.427        9.8  0   \n",
       "2937                 11.2                            0.434        9.8  0   \n",
       "\n",
       "      Developing  \n",
       "0              1  \n",
       "1              1  \n",
       "2              1  \n",
       "3              1  \n",
       "4              1  \n",
       "...          ...  \n",
       "2933           1  \n",
       "2934           1  \n",
       "2935           1  \n",
       "2936           1  \n",
       "2937           1  \n",
       "\n",
       "[2938 rows x 23 columns]"
      ]
     },
     "execution_count": 29,
     "metadata": {},
     "output_type": "execute_result"
    }
   ],
   "source": [
    "life_data.rename(columns = {'Deloping' : '0', 'Developed' : 1})"
   ]
  },
  {
   "cell_type": "code",
   "execution_count": 30,
   "metadata": {},
   "outputs": [],
   "source": [
    "life_data = life_data.drop(['Year'], axis=1)"
   ]
  },
  {
   "cell_type": "markdown",
   "metadata": {},
   "source": [
    "# Now, lets calculate the mean of each country"
   ]
  },
  {
   "cell_type": "code",
   "execution_count": 31,
   "metadata": {},
   "outputs": [
    {
     "data": {
      "text/html": [
       "<div>\n",
       "<style scoped>\n",
       "    .dataframe tbody tr th:only-of-type {\n",
       "        vertical-align: middle;\n",
       "    }\n",
       "\n",
       "    .dataframe tbody tr th {\n",
       "        vertical-align: top;\n",
       "    }\n",
       "\n",
       "    .dataframe thead th {\n",
       "        text-align: right;\n",
       "    }\n",
       "</style>\n",
       "<table border=\"1\" class=\"dataframe\">\n",
       "  <thead>\n",
       "    <tr style=\"text-align: right;\">\n",
       "      <th></th>\n",
       "      <th>Life expectancy</th>\n",
       "      <th>Adult Mortality</th>\n",
       "      <th>infant deaths</th>\n",
       "      <th>Alcohol</th>\n",
       "      <th>percentage expenditure</th>\n",
       "      <th>Hepatitis B</th>\n",
       "      <th>Measles</th>\n",
       "      <th>BMI</th>\n",
       "      <th>under-five deaths</th>\n",
       "      <th>Polio</th>\n",
       "      <th>...</th>\n",
       "      <th>Diphtheria</th>\n",
       "      <th>HIV/AIDS</th>\n",
       "      <th>GDP</th>\n",
       "      <th>Population</th>\n",
       "      <th>thinness  1-19 years</th>\n",
       "      <th>thinness 5-9 years</th>\n",
       "      <th>Income composition of resources</th>\n",
       "      <th>Schooling</th>\n",
       "      <th>Developed</th>\n",
       "      <th>Developing</th>\n",
       "    </tr>\n",
       "    <tr>\n",
       "      <th>Country</th>\n",
       "      <th></th>\n",
       "      <th></th>\n",
       "      <th></th>\n",
       "      <th></th>\n",
       "      <th></th>\n",
       "      <th></th>\n",
       "      <th></th>\n",
       "      <th></th>\n",
       "      <th></th>\n",
       "      <th></th>\n",
       "      <th></th>\n",
       "      <th></th>\n",
       "      <th></th>\n",
       "      <th></th>\n",
       "      <th></th>\n",
       "      <th></th>\n",
       "      <th></th>\n",
       "      <th></th>\n",
       "      <th></th>\n",
       "      <th></th>\n",
       "      <th></th>\n",
       "    </tr>\n",
       "  </thead>\n",
       "  <tbody>\n",
       "    <tr>\n",
       "      <th>Afghanistan</th>\n",
       "      <td>58.19375</td>\n",
       "      <td>269.0625</td>\n",
       "      <td>78.2500</td>\n",
       "      <td>0.014375</td>\n",
       "      <td>34.960110</td>\n",
       "      <td>64.562500</td>\n",
       "      <td>2362.2500</td>\n",
       "      <td>15.51875</td>\n",
       "      <td>107.5625</td>\n",
       "      <td>48.3750</td>\n",
       "      <td>...</td>\n",
       "      <td>52.3125</td>\n",
       "      <td>0.10000</td>\n",
       "      <td>340.015425</td>\n",
       "      <td>9.972260e+06</td>\n",
       "      <td>16.58125</td>\n",
       "      <td>15.58125</td>\n",
       "      <td>0.415375</td>\n",
       "      <td>8.21250</td>\n",
       "      <td>0</td>\n",
       "      <td>1</td>\n",
       "    </tr>\n",
       "    <tr>\n",
       "      <th>Albania</th>\n",
       "      <td>75.15625</td>\n",
       "      <td>45.0625</td>\n",
       "      <td>0.6875</td>\n",
       "      <td>4.848750</td>\n",
       "      <td>193.259091</td>\n",
       "      <td>98.000000</td>\n",
       "      <td>53.3750</td>\n",
       "      <td>49.06875</td>\n",
       "      <td>0.9375</td>\n",
       "      <td>98.1250</td>\n",
       "      <td>...</td>\n",
       "      <td>98.0625</td>\n",
       "      <td>0.10000</td>\n",
       "      <td>2119.726679</td>\n",
       "      <td>6.969116e+05</td>\n",
       "      <td>1.61875</td>\n",
       "      <td>1.70000</td>\n",
       "      <td>0.709875</td>\n",
       "      <td>12.13750</td>\n",
       "      <td>0</td>\n",
       "      <td>1</td>\n",
       "    </tr>\n",
       "    <tr>\n",
       "      <th>Algeria</th>\n",
       "      <td>73.61875</td>\n",
       "      <td>108.1875</td>\n",
       "      <td>20.3125</td>\n",
       "      <td>0.406667</td>\n",
       "      <td>236.185241</td>\n",
       "      <td>78.000000</td>\n",
       "      <td>1943.8750</td>\n",
       "      <td>48.74375</td>\n",
       "      <td>23.5000</td>\n",
       "      <td>91.7500</td>\n",
       "      <td>...</td>\n",
       "      <td>91.8750</td>\n",
       "      <td>0.10000</td>\n",
       "      <td>2847.853392</td>\n",
       "      <td>2.164983e+07</td>\n",
       "      <td>6.09375</td>\n",
       "      <td>5.97500</td>\n",
       "      <td>0.694875</td>\n",
       "      <td>12.71250</td>\n",
       "      <td>0</td>\n",
       "      <td>1</td>\n",
       "    </tr>\n",
       "    <tr>\n",
       "      <th>Angola</th>\n",
       "      <td>49.01875</td>\n",
       "      <td>328.5625</td>\n",
       "      <td>83.7500</td>\n",
       "      <td>5.740667</td>\n",
       "      <td>102.100268</td>\n",
       "      <td>70.222222</td>\n",
       "      <td>3561.3125</td>\n",
       "      <td>18.01875</td>\n",
       "      <td>132.6250</td>\n",
       "      <td>46.1250</td>\n",
       "      <td>...</td>\n",
       "      <td>47.6875</td>\n",
       "      <td>2.36875</td>\n",
       "      <td>1975.143045</td>\n",
       "      <td>1.014710e+07</td>\n",
       "      <td>6.19375</td>\n",
       "      <td>6.66875</td>\n",
       "      <td>0.458375</td>\n",
       "      <td>8.04375</td>\n",
       "      <td>0</td>\n",
       "      <td>1</td>\n",
       "    </tr>\n",
       "    <tr>\n",
       "      <th>Antigua and Barbuda</th>\n",
       "      <td>75.05625</td>\n",
       "      <td>127.5000</td>\n",
       "      <td>0.0000</td>\n",
       "      <td>7.949333</td>\n",
       "      <td>1001.585226</td>\n",
       "      <td>98.266667</td>\n",
       "      <td>0.0000</td>\n",
       "      <td>38.42500</td>\n",
       "      <td>0.0000</td>\n",
       "      <td>96.9375</td>\n",
       "      <td>...</td>\n",
       "      <td>98.3125</td>\n",
       "      <td>0.12500</td>\n",
       "      <td>9759.305728</td>\n",
       "      <td>NaN</td>\n",
       "      <td>3.42500</td>\n",
       "      <td>3.37500</td>\n",
       "      <td>0.488625</td>\n",
       "      <td>8.84375</td>\n",
       "      <td>0</td>\n",
       "      <td>1</td>\n",
       "    </tr>\n",
       "  </tbody>\n",
       "</table>\n",
       "<p>5 rows × 21 columns</p>\n",
       "</div>"
      ],
      "text/plain": [
       "                     Life expectancy   Adult Mortality  infant deaths  \\\n",
       "Country                                                                 \n",
       "Afghanistan                  58.19375         269.0625        78.2500   \n",
       "Albania                      75.15625          45.0625         0.6875   \n",
       "Algeria                      73.61875         108.1875        20.3125   \n",
       "Angola                       49.01875         328.5625        83.7500   \n",
       "Antigua and Barbuda          75.05625         127.5000         0.0000   \n",
       "\n",
       "                      Alcohol  percentage expenditure  Hepatitis B   Measles   \\\n",
       "Country                                                                         \n",
       "Afghanistan          0.014375               34.960110    64.562500  2362.2500   \n",
       "Albania              4.848750              193.259091    98.000000    53.3750   \n",
       "Algeria              0.406667              236.185241    78.000000  1943.8750   \n",
       "Angola               5.740667              102.100268    70.222222  3561.3125   \n",
       "Antigua and Barbuda  7.949333             1001.585226    98.266667     0.0000   \n",
       "\n",
       "                         BMI   under-five deaths     Polio  ...  Diphtheria   \\\n",
       "Country                                                     ...                \n",
       "Afghanistan          15.51875            107.5625  48.3750  ...      52.3125   \n",
       "Albania              49.06875              0.9375  98.1250  ...      98.0625   \n",
       "Algeria              48.74375             23.5000  91.7500  ...      91.8750   \n",
       "Angola               18.01875            132.6250  46.1250  ...      47.6875   \n",
       "Antigua and Barbuda  38.42500              0.0000  96.9375  ...      98.3125   \n",
       "\n",
       "                      HIV/AIDS          GDP    Population  \\\n",
       "Country                                                     \n",
       "Afghanistan            0.10000   340.015425  9.972260e+06   \n",
       "Albania                0.10000  2119.726679  6.969116e+05   \n",
       "Algeria                0.10000  2847.853392  2.164983e+07   \n",
       "Angola                 2.36875  1975.143045  1.014710e+07   \n",
       "Antigua and Barbuda    0.12500  9759.305728           NaN   \n",
       "\n",
       "                      thinness  1-19 years   thinness 5-9 years  \\\n",
       "Country                                                           \n",
       "Afghanistan                       16.58125             15.58125   \n",
       "Albania                            1.61875              1.70000   \n",
       "Algeria                            6.09375              5.97500   \n",
       "Angola                             6.19375              6.66875   \n",
       "Antigua and Barbuda                3.42500              3.37500   \n",
       "\n",
       "                     Income composition of resources  Schooling  Developed  \\\n",
       "Country                                                                      \n",
       "Afghanistan                                 0.415375    8.21250          0   \n",
       "Albania                                     0.709875   12.13750          0   \n",
       "Algeria                                     0.694875   12.71250          0   \n",
       "Angola                                      0.458375    8.04375          0   \n",
       "Antigua and Barbuda                         0.488625    8.84375          0   \n",
       "\n",
       "                     Developing  \n",
       "Country                          \n",
       "Afghanistan                   1  \n",
       "Albania                       1  \n",
       "Algeria                       1  \n",
       "Angola                        1  \n",
       "Antigua and Barbuda           1  \n",
       "\n",
       "[5 rows x 21 columns]"
      ]
     },
     "execution_count": 31,
     "metadata": {},
     "output_type": "execute_result"
    }
   ],
   "source": [
    "life_data = life_data.groupby('Country').mean()\n",
    "life_data.head()"
   ]
  },
  {
   "cell_type": "markdown",
   "metadata": {},
   "source": [
    "# Exploratory Data Analysis"
   ]
  },
  {
   "cell_type": "code",
   "execution_count": 32,
   "metadata": {},
   "outputs": [
    {
     "data": {
      "text/plain": [
       "Index(['Life expectancy ', 'Adult Mortality', 'infant deaths', 'Alcohol',\n",
       "       'percentage expenditure', 'Hepatitis B', 'Measles ', ' BMI ',\n",
       "       'under-five deaths ', 'Polio', 'Total expenditure', 'Diphtheria ',\n",
       "       ' HIV/AIDS', 'GDP', 'Population', ' thinness  1-19 years',\n",
       "       ' thinness 5-9 years', 'Income composition of resources', 'Schooling',\n",
       "       'Developed', 'Developing'],\n",
       "      dtype='object')"
      ]
     },
     "execution_count": 32,
     "metadata": {},
     "output_type": "execute_result"
    }
   ],
   "source": [
    "life_data.columns"
   ]
  },
  {
   "cell_type": "markdown",
   "metadata": {},
   "source": [
    "HIV/AID vs Life Expectancy"
   ]
  },
  {
   "cell_type": "code",
   "execution_count": 33,
   "metadata": {},
   "outputs": [
    {
     "data": {
      "text/plain": [
       "Text(0, 0.5, 'Life expectancy')"
      ]
     },
     "execution_count": 33,
     "metadata": {},
     "output_type": "execute_result"
    },
    {
     "data": {
      "image/png": "[encoded data removed]",
      "text/plain": [
       "<Figure size 432x288 with 1 Axes>"
      ]
     },
     "metadata": {
      "needs_background": "light"
     },
     "output_type": "display_data"
    }
   ],
   "source": [
    "plt.scatter(life_data[' HIV/AIDS'], life_data['Life expectancy '])\n",
    "plt.xlabel('HIV/AIDS')\n",
    "plt.ylabel('Life expectancy')"
   ]
  },
  {
   "cell_type": "markdown",
   "metadata": {},
   "source": [
    "Aldult Morality vs Life Expectancy"
   ]
  },
  {
   "cell_type": "code",
   "execution_count": 34,
   "metadata": {},
   "outputs": [
    {
     "data": {
      "text/plain": [
       "Text(0, 0.5, 'Life expectancy')"
      ]
     },
     "execution_count": 34,
     "metadata": {},
     "output_type": "execute_result"
    },
    {
     "data": {
      "image/png": "[encoded data removed]",
      "text/plain": [
       "<Figure size 432x288 with 1 Axes>"
      ]
     },
     "metadata": {
      "needs_background": "light"
     },
     "output_type": "display_data"
    }
   ],
   "source": [
    "plt.scatter(life_data['Adult Mortality'], life_data['Life expectancy '])\n",
    "plt.xlabel('Adult Mortality')\n",
    "plt.ylabel('Life expectancy')"
   ]
  },
  {
   "cell_type": "markdown",
   "metadata": {},
   "source": [
    "Life Expectancy vs Infant Death"
   ]
  },
  {
   "cell_type": "code",
   "execution_count": 35,
   "metadata": {},
   "outputs": [
    {
     "data": {
      "text/plain": [
       "Text(0, 0.5, 'Life expectancy')"
      ]
     },
     "execution_count": 35,
     "metadata": {},
     "output_type": "execute_result"
    },
    {
     "data": {
      "image/png": "[encoded data removed]",
      "text/plain": [
       "<Figure size 432x288 with 1 Axes>"
      ]
     },
     "metadata": {
      "needs_background": "light"
     },
     "output_type": "display_data"
    }
   ],
   "source": [
    "plt.scatter(life_data['infant deaths'], life_data['Life expectancy '])\n",
    "plt.xlabel('infant deaths')\n",
    "plt.ylabel('Life expectancy')"
   ]
  },
  {
   "cell_type": "markdown",
   "metadata": {},
   "source": [
    "Life Expectancy Vs Alcohol"
   ]
  },
  {
   "cell_type": "code",
   "execution_count": 36,
   "metadata": {},
   "outputs": [
    {
     "data": {
      "text/plain": [
       "Text(0, 0.5, 'Life expectancy')"
      ]
     },
     "execution_count": 36,
     "metadata": {},
     "output_type": "execute_result"
    },
    {
     "data": {
      "image/png": "[encoded data removed]",
      "text/plain": [
       "<Figure size 432x288 with 1 Axes>"
      ]
     },
     "metadata": {
      "needs_background": "light"
     },
     "output_type": "display_data"
    }
   ],
   "source": [
    "plt.scatter(life_data['Alcohol'], life_data['Life expectancy '])\n",
    "plt.xlabel('Alcohol')\n",
    "plt.ylabel('Life expectancy')"
   ]
  },
  {
   "cell_type": "markdown",
   "metadata": {},
   "source": [
    "Percentage Expenditure Vs Life Expectancy"
   ]
  },
  {
   "cell_type": "code",
   "execution_count": 37,
   "metadata": {},
   "outputs": [
    {
     "data": {
      "text/plain": [
       "Text(0, 0.5, 'Life expectancy')"
      ]
     },
     "execution_count": 37,
     "metadata": {},
     "output_type": "execute_result"
    },
    {
     "data": {
      "image/png": "[encoded data removed]",
      "text/plain": [
       "<Figure size 432x288 with 1 Axes>"
      ]
     },
     "metadata": {
      "needs_background": "light"
     },
     "output_type": "display_data"
    }
   ],
   "source": [
    "plt.scatter(life_data['percentage expenditure'], life_data['Life expectancy '])\n",
    "plt.xlabel('percentage expenditure')\n",
    "plt.ylabel('Life expectancy')"
   ]
  },
  {
   "cell_type": "markdown",
   "metadata": {},
   "source": [
    "Hepatitis B Vs Life Expecctancy"
   ]
  },
  {
   "cell_type": "code",
   "execution_count": 38,
   "metadata": {},
   "outputs": [
    {
     "data": {
      "text/plain": [
       "Text(0, 0.5, 'Life expectancy')"
      ]
     },
     "execution_count": 38,
     "metadata": {},
     "output_type": "execute_result"
    },
    {
     "data": {
      "image/png": "[encoded data removed]",
      "text/plain": [
       "<Figure size 432x288 with 1 Axes>"
      ]
     },
     "metadata": {
      "needs_background": "light"
     },
     "output_type": "display_data"
    }
   ],
   "source": [
    "plt.scatter(life_data['Hepatitis B'], life_data['Life expectancy '])\n",
    "plt.xlabel('Hepatitis B')\n",
    "plt.ylabel('Life expectancy')"
   ]
  },
  {
   "cell_type": "markdown",
   "metadata": {},
   "source": [
    "Measles Vs Life Expectancy"
   ]
  },
  {
   "cell_type": "code",
   "execution_count": 39,
   "metadata": {},
   "outputs": [
    {
     "data": {
      "text/plain": [
       "Text(0, 0.5, 'Life expectancy')"
      ]
     },
     "execution_count": 39,
     "metadata": {},
     "output_type": "execute_result"
    },
    {
     "data": {
      "image/png": "[encoded data removed]",
      "text/plain": [
       "<Figure size 432x288 with 1 Axes>"
      ]
     },
     "metadata": {
      "needs_background": "light"
     },
     "output_type": "display_data"
    }
   ],
   "source": [
    "plt.scatter(life_data['Measles '], life_data['Life expectancy '])\n",
    "plt.xlabel('Measles')\n",
    "plt.ylabel('Life expectancy')"
   ]
  },
  {
   "cell_type": "code",
   "execution_count": 40,
   "metadata": {},
   "outputs": [
    {
     "ename": "SyntaxError",
     "evalue": "invalid syntax (<ipython-input-40-0a8f1f41d8bc>, line 1)",
     "output_type": "error",
     "traceback": [
      "\u001b[1;36m  File \u001b[1;32m\"<ipython-input-40-0a8f1f41d8bc>\"\u001b[1;36m, line \u001b[1;32m1\u001b[0m\n\u001b[1;33m    BMI vs Life Expectancy\u001b[0m\n\u001b[1;37m         ^\u001b[0m\n\u001b[1;31mSyntaxError\u001b[0m\u001b[1;31m:\u001b[0m invalid syntax\n"
     ]
    }
   ],
   "source": [
    "BMI vs Life Expectancy"
   ]
  },
  {
   "cell_type": "code",
   "execution_count": 41,
   "metadata": {},
   "outputs": [
    {
     "data": {
      "text/plain": [
       "Text(0, 0.5, 'Life expectancy')"
      ]
     },
     "execution_count": 41,
     "metadata": {},
     "output_type": "execute_result"
    },
    {
     "data": {
      "image/png": "[encoded data removed]",
      "text/plain": [
       "<Figure size 432x288 with 1 Axes>"
      ]
     },
     "metadata": {
      "needs_background": "light"
     },
     "output_type": "display_data"
    }
   ],
   "source": [
    "plt.scatter(life_data[' BMI '], life_data['Life expectancy '])\n",
    "plt.xlabel('BMI')\n",
    "plt.ylabel('Life expectancy')"
   ]
  },
  {
   "cell_type": "markdown",
   "metadata": {},
   "source": [
    "Under_Five Deaths Vs Life Expectancy"
   ]
  },
  {
   "cell_type": "code",
   "execution_count": 42,
   "metadata": {},
   "outputs": [
    {
     "data": {
      "text/plain": [
       "Text(0, 0.5, 'Life expectancy')"
      ]
     },
     "execution_count": 42,
     "metadata": {},
     "output_type": "execute_result"
    },
    {
     "data": {
      "image/png": "[encoded data removed]",
      "text/plain": [
       "<Figure size 432x288 with 1 Axes>"
      ]
     },
     "metadata": {
      "needs_background": "light"
     },
     "output_type": "display_data"
    }
   ],
   "source": [
    "plt.scatter(life_data['under-five deaths '], life_data['Life expectancy '])\n",
    "plt.xlabel('under-five deaths ')\n",
    "plt.ylabel('Life expectancy')"
   ]
  },
  {
   "cell_type": "markdown",
   "metadata": {},
   "source": [
    "Polio Vs Life Expectancy"
   ]
  },
  {
   "cell_type": "code",
   "execution_count": 43,
   "metadata": {},
   "outputs": [
    {
     "data": {
      "text/plain": [
       "Text(0, 0.5, 'Life expectancy')"
      ]
     },
     "execution_count": 43,
     "metadata": {},
     "output_type": "execute_result"
    },
    {
     "data": {
      "image/png": "[encoded data removed]",
      "text/plain": [
       "<Figure size 432x288 with 1 Axes>"
      ]
     },
     "metadata": {
      "needs_background": "light"
     },
     "output_type": "display_data"
    }
   ],
   "source": [
    "plt.scatter(life_data['Polio'], life_data['Life expectancy '])\n",
    "plt.xlabel('Polio')\n",
    "plt.ylabel('Life expectancy')"
   ]
  },
  {
   "cell_type": "markdown",
   "metadata": {},
   "source": [
    "Total Expenditure Vs Life Expectancy"
   ]
  },
  {
   "cell_type": "code",
   "execution_count": 44,
   "metadata": {},
   "outputs": [
    {
     "data": {
      "text/plain": [
       "Text(0, 0.5, 'Life expectancy')"
      ]
     },
     "execution_count": 44,
     "metadata": {},
     "output_type": "execute_result"
    },
    {
     "data": {
      "image/png": "[encoded data removed]",
      "text/plain": [
       "<Figure size 432x288 with 1 Axes>"
      ]
     },
     "metadata": {
      "needs_background": "light"
     },
     "output_type": "display_data"
    }
   ],
   "source": [
    "plt.scatter(life_data['Total expenditure'], life_data['Life expectancy '])\n",
    "plt.xlabel('Total expenditure')\n",
    "plt.ylabel('Life expectancy')"
   ]
  },
  {
   "cell_type": "markdown",
   "metadata": {},
   "source": [
    "Diphtheria Vs life Expectancy"
   ]
  },
  {
   "cell_type": "code",
   "execution_count": 45,
   "metadata": {},
   "outputs": [
    {
     "data": {
      "text/plain": [
       "Text(0, 0.5, 'Life expectancy')"
      ]
     },
     "execution_count": 45,
     "metadata": {},
     "output_type": "execute_result"
    },
    {
     "data": {
      "image/png": "[encoded data removed]",
      "text/plain": [
       "<Figure size 432x288 with 1 Axes>"
      ]
     },
     "metadata": {
      "needs_background": "light"
     },
     "output_type": "display_data"
    }
   ],
   "source": [
    "plt.scatter(life_data['Diphtheria '], life_data['Life expectancy '])\n",
    "plt.xlabel('Diphtheria')\n",
    "plt.ylabel('Life expectancy')"
   ]
  },
  {
   "cell_type": "code",
   "execution_count": 46,
   "metadata": {},
   "outputs": [
    {
     "ename": "SyntaxError",
     "evalue": "invalid syntax (<ipython-input-46-34583b65d586>, line 1)",
     "output_type": "error",
     "traceback": [
      "\u001b[1;36m  File \u001b[1;32m\"<ipython-input-46-34583b65d586>\"\u001b[1;36m, line \u001b[1;32m1\u001b[0m\n\u001b[1;33m    Population Vs Life Expectancy\u001b[0m\n\u001b[1;37m                ^\u001b[0m\n\u001b[1;31mSyntaxError\u001b[0m\u001b[1;31m:\u001b[0m invalid syntax\n"
     ]
    }
   ],
   "source": [
    "Population Vs Life Expectancy"
   ]
  },
  {
   "cell_type": "code",
   "execution_count": 47,
   "metadata": {},
   "outputs": [
    {
     "data": {
      "text/plain": [
       "Text(0, 0.5, 'Life expectancy')"
      ]
     },
     "execution_count": 47,
     "metadata": {},
     "output_type": "execute_result"
    },
    {
     "data": {
      "image/png": "[encoded data removed]",
      "text/plain": [
       "<Figure size 432x288 with 1 Axes>"
      ]
     },
     "metadata": {
      "needs_background": "light"
     },
     "output_type": "display_data"
    }
   ],
   "source": [
    "plt.scatter(life_data['Population'], life_data['Life expectancy '])\n",
    "plt.xlabel('Population')\n",
    "plt.ylabel('Life expectancy')"
   ]
  },
  {
   "cell_type": "markdown",
   "metadata": {},
   "source": [
    "GDP Vs Life expectancy"
   ]
  },
  {
   "cell_type": "code",
   "execution_count": 48,
   "metadata": {},
   "outputs": [
    {
     "data": {
      "text/plain": [
       "Text(0, 0.5, 'Life expectancy')"
      ]
     },
     "execution_count": 48,
     "metadata": {},
     "output_type": "execute_result"
    },
    {
     "data": {
      "image/png": "[encoded data removed]",
      "text/plain": [
       "<Figure size 432x288 with 1 Axes>"
      ]
     },
     "metadata": {
      "needs_background": "light"
     },
     "output_type": "display_data"
    }
   ],
   "source": [
    "plt.scatter(life_data['GDP'], life_data['Life expectancy '])\n",
    "plt.xlabel('GDP')\n",
    "plt.ylabel('Life expectancy')"
   ]
  },
  {
   "cell_type": "markdown",
   "metadata": {},
   "source": [
    "School Vs Life expectancy"
   ]
  },
  {
   "cell_type": "code",
   "execution_count": 49,
   "metadata": {},
   "outputs": [
    {
     "data": {
      "text/plain": [
       "Text(0, 0.5, 'Life expectancy')"
      ]
     },
     "execution_count": 49,
     "metadata": {},
     "output_type": "execute_result"
    },
    {
     "data": {
      "image/png": "[encoded data removed]",
      "text/plain": [
       "<Figure size 432x288 with 1 Axes>"
      ]
     },
     "metadata": {
      "needs_background": "light"
     },
     "output_type": "display_data"
    }
   ],
   "source": [
    "plt.scatter(life_data['Schooling'], life_data['Life expectancy '])\n",
    "plt.xlabel('Schooling')\n",
    "plt.ylabel('Life expectancy')"
   ]
  },
  {
   "cell_type": "markdown",
   "metadata": {},
   "source": [
    "Income Composition of resources Vs Life Expectancy"
   ]
  },
  {
   "cell_type": "code",
   "execution_count": 50,
   "metadata": {},
   "outputs": [
    {
     "data": {
      "text/plain": [
       "Text(0, 0.5, 'Life expectancy')"
      ]
     },
     "execution_count": 50,
     "metadata": {},
     "output_type": "execute_result"
    },
    {
     "data": {
      "image/png": "[encoded data removed]",
      "text/plain": [
       "<Figure size 432x288 with 1 Axes>"
      ]
     },
     "metadata": {
      "needs_background": "light"
     },
     "output_type": "display_data"
    }
   ],
   "source": [
    "plt.scatter(life_data['Income composition of resources'], life_data['Life expectancy '])\n",
    "plt.xlabel('Income composition of resources')\n",
    "plt.ylabel('Life expectancy')"
   ]
  },
  {
   "cell_type": "markdown",
   "metadata": {},
   "source": [
    "Life Expectancy Vs thinness 1-19years"
   ]
  },
  {
   "cell_type": "code",
   "execution_count": 51,
   "metadata": {},
   "outputs": [
    {
     "data": {
      "text/plain": [
       "Text(0, 0.5, 'Life expectancy')"
      ]
     },
     "execution_count": 51,
     "metadata": {},
     "output_type": "execute_result"
    },
    {
     "data": {
      "image/png": "[encoded data removed]",
      "text/plain": [
       "<Figure size 432x288 with 1 Axes>"
      ]
     },
     "metadata": {
      "needs_background": "light"
     },
     "output_type": "display_data"
    }
   ],
   "source": [
    "plt.scatter(life_data[' thinness  1-19 years'], life_data['Life expectancy '])\n",
    "plt.xlabel('thinness 1-19 years')\n",
    "plt.ylabel('Life expectancy')"
   ]
  },
  {
   "cell_type": "markdown",
   "metadata": {},
   "source": [
    "Life Expectancy Vs Thinness 5-9 years"
   ]
  },
  {
   "cell_type": "code",
   "execution_count": 52,
   "metadata": {},
   "outputs": [
    {
     "data": {
      "text/plain": [
       "Text(0, 0.5, 'Life expectancy')"
      ]
     },
     "execution_count": 52,
     "metadata": {},
     "output_type": "execute_result"
    },
    {
     "data": {
      "image/png": "[encoded data removed]",
      "text/plain": [
       "<Figure size 432x288 with 1 Axes>"
      ]
     },
     "metadata": {
      "needs_background": "light"
     },
     "output_type": "display_data"
    }
   ],
   "source": [
    "plt.scatter(life_data[' thinness 5-9 years'], life_data['Life expectancy '])\n",
    "plt.xlabel('thinness 5-9 years')\n",
    "plt.ylabel('Life expectancy')"
   ]
  },
  {
   "cell_type": "markdown",
   "metadata": {},
   "source": [
    "from the above, we plot the Life Expectancy against other variables to see if there is any correlation between them.\n",
    "There seem to be a positive correlation between The Percentage of Healthcare Expenditure, Schooling, GDP and BMI and Life Expectancy,\n",
    "while there is a negative one between Adult Mortality, AIDS and Life Expectancy,there does not seem to have any correlation between Alcohol, \n",
    "under 5 years – old deaths and Life Expectancy."
   ]
  },
  {
   "cell_type": "markdown",
   "metadata": {},
   "source": [
    "## Checking for the correlation between variables"
   ]
  },
  {
   "cell_type": "code",
   "execution_count": 53,
   "metadata": {},
   "outputs": [
    {
     "data": {
      "text/plain": [
       "<matplotlib.axes._subplots.AxesSubplot at 0x232a982d2c8>"
      ]
     },
     "execution_count": 53,
     "metadata": {},
     "output_type": "execute_result"
    },
    {
     "data": {
      "image/png": "[encoded data removed]",
      "text/plain": [
       "<Figure size 1008x720 with 2 Axes>"
      ]
     },
     "metadata": {
      "needs_background": "light"
     },
     "output_type": "display_data"
    }
   ],
   "source": [
    "plt.figure(figsize = (14, 10))\n",
    "sbn.heatmap(life_data.corr(), annot = True)"
   ]
  },
  {
   "cell_type": "markdown",
   "metadata": {},
   "source": [
    "The visualisation of the correlation matrix with the aid of heatmap above show that there is a very high correlation between thinness of 5-9 year-old and that of 1-19 year-old. Also between population and infant deaths, under 5 deaths, another is between schooling and income composition of resources. On the other hand Life expectancy and Adult Mortality are very highly negatively correlated."
   ]
  },
  {
   "cell_type": "markdown",
   "metadata": {},
   "source": [
    "Preprocessing the Data"
   ]
  },
  {
   "cell_type": "markdown",
   "metadata": {},
   "source": [
    "Cecking for Missing Data"
   ]
  },
  {
   "cell_type": "code",
   "execution_count": 54,
   "metadata": {},
   "outputs": [
    {
     "data": {
      "text/plain": [
       "Life expectancy                    10\n",
       "Adult Mortality                    10\n",
       "infant deaths                       0\n",
       "Alcohol                             2\n",
       "percentage expenditure              0\n",
       "Hepatitis B                         9\n",
       "Measles                             0\n",
       " BMI                                4\n",
       "under-five deaths                   0\n",
       "Polio                               0\n",
       "Total expenditure                   2\n",
       "Diphtheria                          0\n",
       " HIV/AIDS                           0\n",
       "GDP                                30\n",
       "Population                         48\n",
       " thinness  1-19 years               4\n",
       " thinness 5-9 years                 4\n",
       "Income composition of resources    17\n",
       "Schooling                          13\n",
       "Developed                           0\n",
       "Developing                          0\n",
       "dtype: int64"
      ]
     },
     "execution_count": 54,
     "metadata": {},
     "output_type": "execute_result"
    }
   ],
   "source": [
    "life_data.isna().sum()"
   ]
  },
  {
   "cell_type": "markdown",
   "metadata": {},
   "source": [
    "Replacing the mising values with the median "
   ]
  },
  {
   "cell_type": "code",
   "execution_count": 55,
   "metadata": {},
   "outputs": [
    {
     "data": {
      "text/plain": [
       "Life expectancy                    0\n",
       "Adult Mortality                    0\n",
       "infant deaths                      0\n",
       "Alcohol                            0\n",
       "percentage expenditure             0\n",
       "Hepatitis B                        0\n",
       "Measles                            0\n",
       " BMI                               0\n",
       "under-five deaths                  0\n",
       "Polio                              0\n",
       "Total expenditure                  0\n",
       "Diphtheria                         0\n",
       " HIV/AIDS                          0\n",
       "GDP                                0\n",
       "Population                         0\n",
       " thinness  1-19 years              0\n",
       " thinness 5-9 years                0\n",
       "Income composition of resources    0\n",
       "Schooling                          0\n",
       "Developed                          0\n",
       "Developing                         0\n",
       "dtype: int64"
      ]
     },
     "execution_count": 55,
     "metadata": {},
     "output_type": "execute_result"
    }
   ],
   "source": [
    "life_data.fillna(value = life_data.median(), inplace = True)\n",
    "life_data.isnull().sum()"
   ]
  },
  {
   "cell_type": "markdown",
   "metadata": {},
   "source": [
    "## Splitting dataset into x and y variables where the x=independent and y=dependent variable"
   ]
  },
  {
   "cell_type": "code",
   "execution_count": 56,
   "metadata": {},
   "outputs": [],
   "source": [
    "y = life_data['Life expectancy ']\n",
    "x = life_data.drop(columns=['Life expectancy '], axis=1)"
   ]
  },
  {
   "cell_type": "markdown",
   "metadata": {},
   "source": [
    "Converting independent variable from series to numpy array and reshaping it from 1D array to a 2D array"
   ]
  },
  {
   "cell_type": "code",
   "execution_count": 57,
   "metadata": {},
   "outputs": [],
   "source": [
    "y_1 = y.to_numpy().reshape((-1, 1))\n",
    "X_train, X_test, y_train, y_test = train_test_split(x, y_1, test_size=.20, random_state=50 )"
   ]
  },
  {
   "cell_type": "markdown",
   "metadata": {},
   "source": [
    "Fitting the Model"
   ]
  },
  {
   "cell_type": "code",
   "execution_count": 58,
   "metadata": {},
   "outputs": [],
   "source": [
    "model = LinearRegression()\n",
    "admin_chance = model.fit(X_train, y_train)"
   ]
  },
  {
   "cell_type": "markdown",
   "metadata": {},
   "source": [
    "Obtaining r_square(Coefficient of determination)"
   ]
  },
  {
   "cell_type": "code",
   "execution_count": 59,
   "metadata": {},
   "outputs": [
    {
     "data": {
      "text/plain": [
       "0.9268953371174874"
      ]
     },
     "execution_count": 59,
     "metadata": {},
     "output_type": "execute_result"
    }
   ],
   "source": [
    "coef_deter = admin_chance.score(X_train, y_train)\n",
    "coef_deter"
   ]
  },
  {
   "cell_type": "markdown",
   "metadata": {},
   "source": [
    "The score shows that the model has 93% chances of predicting the Life Expectancy of an individual given the value of the other variables"
   ]
  },
  {
   "cell_type": "markdown",
   "metadata": {},
   "source": [
    "\n",
    "Adjusted r_square"
   ]
  },
  {
   "cell_type": "code",
   "execution_count": 60,
   "metadata": {},
   "outputs": [
    {
     "data": {
      "text/plain": [
       "0.9159021547291396"
      ]
     },
     "execution_count": 60,
     "metadata": {},
     "output_type": "execute_result"
    }
   ],
   "source": [
    "1 - (1-model.score(X_train, y_train))*(len(y_train)-1)/(len(y_train)-X_train.shape[1]-1)"
   ]
  },
  {
   "cell_type": "markdown",
   "metadata": {},
   "source": [
    "The r-square score on training shows that even with addition of more variable to the model, the model will still have 92%  level of accuracy in its predictions"
   ]
  },
  {
   "cell_type": "code",
   "execution_count": 61,
   "metadata": {},
   "outputs": [
    {
     "data": {
      "text/plain": [
       "array([[-5.29755165e-02,  3.96809133e-02,  9.47090662e-02,\n",
       "         3.18995380e-04, -3.29614394e-02,  8.06753556e-06,\n",
       "         5.10133501e-02, -3.70835037e-02, -2.57813923e-02,\n",
       "         1.35284383e-01,  1.19950045e-01, -1.16942785e-01,\n",
       "        -2.35069384e-06,  1.95663993e-08, -1.72942764e-01,\n",
       "         1.88909771e-01,  6.16562522e+00,  2.25265170e-01,\n",
       "         1.60799085e-01, -1.60799085e-01]])"
      ]
     },
     "execution_count": 61,
     "metadata": {},
     "output_type": "execute_result"
    }
   ],
   "source": [
    "intercept = model.coef_\n",
    "intercept"
   ]
  },
  {
   "cell_type": "markdown",
   "metadata": {},
   "source": [
    "The Coefficient above shows that there is a positive relationship between the independent variables and the dependent variable aside from 'Adult Mortality, Percentage Expenditure, under-five deaths, Polio,GDP, thinness 1-9year, thinnes 5-9year and income composition of resources' which has a negative relationship with the dependent variable; they may likely not affect the life expectancy of an individual  "
   ]
  },
  {
   "cell_type": "code",
   "execution_count": 62,
   "metadata": {},
   "outputs": [],
   "source": [
    "y_predict = admin_chance.predict(X_test)"
   ]
  },
  {
   "cell_type": "code",
   "execution_count": 63,
   "metadata": {},
   "outputs": [
    {
     "name": "stdout",
     "output_type": "stream",
     "text": [
      "Coefficients: \n",
      " [[-5.29755165e-02  3.96809133e-02  9.47090662e-02  3.18995380e-04\n",
      "  -3.29614394e-02  8.06753556e-06  5.10133501e-02 -3.70835037e-02\n",
      "  -2.57813923e-02  1.35284383e-01  1.19950045e-01 -1.16942785e-01\n",
      "  -2.35069384e-06  1.95663993e-08 -1.72942764e-01  1.88909771e-01\n",
      "   6.16562522e+00  2.25265170e-01  1.60799085e-01 -1.60799085e-01]]\n",
      "Mean squared error: 4.72\n",
      "Mean absolute error: 1.76\n",
      "R_square score: 0.92\n"
     ]
    }
   ],
   "source": [
    "from sklearn.metrics import mean_absolute_error, mean_squared_error, r2_score\n",
    "model_predict = model.predict(X_test)\n",
    "print('Coefficients: \\n', model.coef_)\n",
    "print(\"Mean squared error: %.2f\"\n",
    "      % mean_squared_error(y_test, y_predict))\n",
    "print(\"Mean absolute error: %.2f\"\n",
    "      % mean_absolute_error(y_test, y_predict))\n",
    "print('R_square score: %.2f' % r2_score(y_test, y_predict))\n"
   ]
  },
  {
   "cell_type": "markdown",
   "metadata": {},
   "source": [
    "## Conclusion\n",
    "\n",
    "With high R-squared of 92% it goes to say that our model has 92% of predicting the life expectancy of an individual. Sometimes the R-squared might be decieving so to get a better model with no overfitting there is the need to check your adjusted R-Squared shows that even with addition of more variable to the model, the model will still have 92% of predicting the response."
   ]
  },
  {
   "cell_type": "markdown",
   "metadata": {},
   "source": [
    "# # Hypothesis Testing"
   ]
  },
  {
   "cell_type": "markdown",
   "metadata": {},
   "source": [
    "H0: There is significance relationship between the Life Expectancy and Alcohol\n",
    "\n",
    "H1: There is no statistical significance relationship between Life Expectancy and Alcohol\n",
    "\n"
   ]
  },
  {
   "cell_type": "markdown",
   "metadata": {},
   "source": [
    "Using Chi-Square Statement "
   ]
  },
  {
   "cell_type": "markdown",
   "metadata": {},
   "source": [
    "Loading required libraries"
   ]
  },
  {
   "cell_type": "code",
   "execution_count": 64,
   "metadata": {},
   "outputs": [],
   "source": [
    "import statsmodels.api as sm\n",
    "from statsmodels.formula.api import ols\n",
    "from scipy.stats import chi2_contingency\n",
    "from scipy.stats import chi2"
   ]
  },
  {
   "cell_type": "markdown",
   "metadata": {},
   "source": [
    "Defining of variables from the dataset"
   ]
  },
  {
   "cell_type": "code",
   "execution_count": 65,
   "metadata": {},
   "outputs": [],
   "source": [
    "table = life_data[['Life expectancy ', 'Alcohol','Schooling' ]]"
   ]
  },
  {
   "cell_type": "code",
   "execution_count": 69,
   "metadata": {},
   "outputs": [],
   "source": [
    "table = table.rename(columns={'Life expectancy ': 'LifeExpectancy'})"
   ]
  },
  {
   "cell_type": "code",
   "execution_count": 70,
   "metadata": {},
   "outputs": [
    {
     "name": "stdout",
     "output_type": "stream",
     "text": [
      "<class 'pandas.core.frame.DataFrame'>\n",
      "Index: 193 entries, Afghanistan to Zimbabwe\n",
      "Data columns (total 3 columns):\n",
      " #   Column          Non-Null Count  Dtype  \n",
      "---  ------          --------------  -----  \n",
      " 0   LifeExpectancy  193 non-null    float64\n",
      " 1   Alcohol         193 non-null    float64\n",
      " 2   Schooling       193 non-null    float64\n",
      "dtypes: float64(3)\n",
      "memory usage: 6.0+ KB\n"
     ]
    }
   ],
   "source": [
    "table.info()"
   ]
  },
  {
   "cell_type": "markdown",
   "metadata": {},
   "source": [
    "No missing values"
   ]
  },
  {
   "cell_type": "code",
   "execution_count": 71,
   "metadata": {},
   "outputs": [
    {
     "name": "stdout",
     "output_type": "stream",
     "text": [
      "[[53.7527807   3.43166958  9.23617472]\n",
      " [74.56893993  4.76060884 12.81295123]\n",
      " [70.19512709  4.48137714 12.06141244]\n",
      " [50.82524961  3.24477098  8.73314607]\n",
      " [74.33168646  4.74546217 12.7721847 ]\n",
      " [80.62773795  5.14741288 13.85401583]\n",
      " [71.93689664  4.59257469 12.36069534]\n",
      " [90.64350298  5.78683648 15.57499388]\n",
      " [88.29612338  5.63697574 15.17165088]\n",
      " [67.22939131  4.29203949 11.5518192 ]\n",
      " [78.48692668  5.01073982 13.48616683]\n",
      " [74.26923714  4.7414753  12.76145422]\n",
      " [63.12675419  4.03012011 10.8468757 ]\n",
      " [78.86958051  5.0351691  13.55191705]\n",
      " [79.43358015  5.0711758  13.64882737]\n",
      " [87.8159515   5.60632075 15.08914442]\n",
      " [71.19843005  4.54542972 12.2338069 ]\n",
      " [54.56054176  3.48323843  9.37496981]\n",
      " [62.04427682  3.9610129  10.66087695]\n",
      " [68.69216212  4.38542528 11.8031626 ]\n",
      " [74.93844298  4.78419855 12.8764418 ]\n",
      " [58.96200495  3.76423538 10.13125967]\n",
      " [76.68486589  4.89569318 13.17652427]\n",
      " [73.6220167   4.70015564 12.65024433]\n",
      " [78.8563623   5.03432523 13.54964581]\n",
      " [52.83886929  3.37332391  9.07914013]\n",
      " [54.32045582  3.46791093  9.33371658]\n",
      " [71.35145112  4.55519884 12.26010004]\n",
      " [61.26622303  3.91134061 10.52718637]\n",
      " [54.27533854  3.46503057  9.32596422]\n",
      " [85.4726183   5.45671834 14.68649669]\n",
      " [45.30448688  2.89231604  7.78453042]\n",
      " [46.03688388  2.93907351  7.91037594]\n",
      " [82.00256717  5.23518433 14.0902485 ]\n",
      " [72.73956598  4.64381847 12.49861554]\n",
      " [72.78495302  4.64671606 12.50641426]\n",
      " [58.00274022  3.70299428  9.96643217]\n",
      " [57.70526295  3.68400282  9.91531757]\n",
      " [68.65260863  4.38290012 11.79636625]\n",
      " [77.1694888   4.92663233 13.25979553]\n",
      " [82.91401703  5.29337285 14.24686012]\n",
      " [78.38623896  5.00431175 13.46886596]\n",
      " [83.72343036  5.34504719 14.38593912]\n",
      " [82.65090037  5.27657504 14.2016496 ]\n",
      " [53.05565475  3.38716387  9.11638971]\n",
      " [68.4067903   4.36720665 11.75412804]\n",
      " [56.20105034  3.58797131  9.65685335]\n",
      " [86.72066055  5.5363955  14.90094395]\n",
      " [53.63108545  3.42390035  9.2152642 ]\n",
      " [68.94850107  4.4017904  11.84720854]\n",
      " [73.73996903  4.70768592 12.67051172]\n",
      " [74.08526117  4.72972996 12.7298422 ]\n",
      " [67.64144892  4.31834595 11.62262179]\n",
      " [70.48221862  4.49970555 12.1107425 ]\n",
      " [57.44218001  3.66720715  9.87011283]\n",
      " [53.59082385  3.42132998  9.20834617]\n",
      " [80.84361298  5.16119471 13.89110897]\n",
      " [54.21127066  3.46094037  9.31495563]\n",
      " [68.26783045  4.35833522 11.730251  ]\n",
      " [87.04511377  5.55710915 14.95669375]\n",
      " [89.44421975  5.71027218 15.36892474]\n",
      " [66.79265071  4.26415722 11.47677541]\n",
      " [56.42464724  3.60224612  9.69527331]\n",
      " [74.29547125  4.74315013 12.76596195]\n",
      " [88.5380302   5.65241949 15.21321698]\n",
      " [57.97967578  3.7015218   9.96246908]\n",
      " [85.75080777  5.47447843 14.73429713]\n",
      " [78.77786229  5.02931365 13.53615739]\n",
      " [67.86804689  4.33281235 11.66155742]\n",
      " [51.26954348  3.27313547  8.80948772]\n",
      " [53.34460088  3.40561068  9.16603844]\n",
      " [67.84262206  4.33118919 11.65718875]\n",
      " [59.72859396  3.81317574 10.2629803 ]\n",
      " [70.34511336  4.49095252 12.08718412]\n",
      " [81.22815513  5.18574454 13.95718366]\n",
      " [87.45548539  5.58330797 15.02720664]\n",
      " [62.59121417  3.99593031 10.75485551]\n",
      " [64.12513404  4.09385839 11.01842424]\n",
      " [70.02565069  4.47055747 12.03229184]\n",
      " [65.06369473  4.15377771 11.17969423]\n",
      " [89.39310033  5.70700863 15.36014104]\n",
      " [80.53116406  5.14124744 13.83742184]\n",
      " [86.09542551  5.49647942 14.79351174]\n",
      " [72.99104926  4.6598736  12.54182714]\n",
      " [84.61262506  5.4018149  14.53872671]\n",
      " [70.1987014   4.48160533 12.06202661]\n",
      " [70.75427106  4.51707385 12.15748843]\n",
      " [55.88229579  3.56762147  9.60208273]\n",
      " [62.54461322  3.99295523 10.74684821]\n",
      " [70.88476721  4.52540494 12.17991118]\n",
      " [67.72534412  4.32370196 11.63703725]\n",
      " [60.79124401  3.88101714 10.44557219]\n",
      " [79.44201014  5.07171399 13.65027587]\n",
      " [72.61581382  4.63591792 12.47735159]\n",
      " [49.79018247  3.17869053  8.55529367]\n",
      " [57.176939    3.65027371  9.82453729]\n",
      " [70.64292783  4.5099655  12.13835667]\n",
      " [82.17325748  5.2460815  14.11957769]\n",
      " [86.05927774  5.49417169 14.78730058]\n",
      " [58.99235289  3.76617285 10.13647427]\n",
      " [49.40186369  3.15389959  8.48857005]\n",
      " [70.2529905   4.48507124 12.07135494]\n",
      " [71.98113719  4.59539908 12.36829706]\n",
      " [50.01887107  3.1932904   8.59458853]\n",
      " [82.383535    5.25950597 14.15570903]\n",
      " [58.6706647   3.74563572 10.08119958]\n",
      " [56.75638396  3.62342476  9.75227461]\n",
      " [72.14751136  4.60602069 12.39688462]\n",
      " [75.39055988  4.81306246 12.95412766]\n",
      " [65.34545851  4.17176599 11.22810883]\n",
      " [68.65260863  4.38290012 11.79636625]\n",
      " [65.47892202  4.18028653 11.25104146]\n",
      " [71.05710498  4.53640728 12.20952345]\n",
      " [67.13969628  4.2863132  11.53640718]\n",
      " [50.69906961  3.23671544  8.71146495]\n",
      " [58.97724636  3.76520842 10.13387856]\n",
      " [62.03982579  3.96072873 10.66011214]\n",
      " [66.43973786  4.24162666 11.41613548]\n",
      " [62.39739198  3.98355637 10.72155164]\n",
      " [86.6204449   5.52999756 14.8837242 ]\n",
      " [88.51280769  5.65080924 15.20888307]\n",
      " [71.34531409  4.55480705 12.25904553]\n",
      " [49.43989978  3.15632788  8.49510567]\n",
      " [55.84257371  3.56508555  9.59525741]\n",
      " [68.65260863  4.38290012 11.79636625]\n",
      " [85.37634788  5.45057227 14.66995485]\n",
      " [70.89555759  4.52609382 12.18176526]\n",
      " [57.65684112  3.68091149  9.90699739]\n",
      " [72.9911167   4.6598779  12.54183873]\n",
      " [77.26545574  4.93275903 13.27628524]\n",
      " [57.30150044  3.65822593  9.8459403 ]\n",
      " [73.48942991  4.69169107 12.62746235]\n",
      " [73.84456827  4.71436371 12.68848468]\n",
      " [67.67948501  4.32077424 11.62915742]\n",
      " [81.65511695  5.21300252 14.0305472 ]\n",
      " [87.51746263  5.58726471 15.037856  ]\n",
      " [73.61405879  4.69964759 12.64887695]\n",
      " [82.28517395  5.25322644 14.13880795]\n",
      " [74.34109432  4.74606279 12.77380122]\n",
      " [78.45442067  5.00866458 13.48058142]\n",
      " [74.96690261  4.78601546 12.88133193]\n",
      " [60.0775953   3.83545658 10.32294812]\n",
      " [76.4181412   4.87866502 13.13069379]\n",
      " [79.16166259  5.05381612 13.60210462]\n",
      " [75.07372736  4.79283533 12.8996873 ]\n",
      " [71.99867156  4.59651851 12.37130993]\n",
      " [70.89076936  4.52578813 12.18094251]\n",
      " [64.42672515  4.11311248 11.07024571]\n",
      " [70.27038998  4.48618205 12.07434464]\n",
      " [56.65198704  3.61675988  9.73433641]\n",
      " [77.82844378  4.96870115 13.37302174]\n",
      " [74.03488359  4.72651377 12.72118598]\n",
      " [46.53222974  2.97069724  7.99548969]\n",
      " [78.67703968  5.02287696 13.51883336]\n",
      " [80.58255324  5.14452821 13.84625188]\n",
      " [86.56116526  5.52621304 14.87353837]\n",
      " [62.43637223  3.98604494 10.7282495 ]\n",
      " [53.13975227  3.3925328   9.13083993]\n",
      " [63.10948958  4.0290179  10.84390918]\n",
      " [47.67587507  3.04370952  8.19199874]\n",
      " [87.76543904  5.60309594 15.08046502]\n",
      " [71.79493571  4.58351166 12.33630263]\n",
      " [56.37271853  3.5989309   9.68635056]\n",
      " [70.31840717  4.48924755 12.08259528]\n",
      " [53.52432814  3.41708478  9.19692042]\n",
      " [85.22848596  5.44113252 14.64454819]\n",
      " [87.45305755  5.58315298 15.02678947]\n",
      " [66.87546687  4.26944434 11.49100546]\n",
      " [62.85517383  4.01278195 10.80021089]\n",
      " [74.26148156  4.74098017 12.76012161]\n",
      " [71.50170715  4.56479145 12.28591807]\n",
      " [61.25556753  3.91066034 10.52535546]\n",
      " [55.24121238  3.52669361  9.49192735]\n",
      " [71.14960358  4.54231255 12.2254172 ]\n",
      " [72.38564154  4.62122333 12.43780179]\n",
      " [72.61102559  4.63561224 12.47652884]\n",
      " [71.22365256  4.54703996 12.23814081]\n",
      " [62.39914542  3.98366832 10.72185293]\n",
      " [58.6706647   3.74563572 10.08119958]\n",
      " [60.17039256  3.84138092 10.33889319]\n",
      " [74.38327796  4.74875586 12.78104951]\n",
      " [73.04749644  4.66347728 12.55152628]\n",
      " [84.37486579  5.38663594 14.49787326]\n",
      " [58.20597027  3.71596883 10.00135256]\n",
      " [80.09931284  5.11367732 13.76321817]\n",
      " [78.88758696  5.03631866 13.55501105]\n",
      " [65.78112008  4.19957937 11.30296722]\n",
      " [66.97824523  4.27600589 11.50866554]\n",
      " [75.74441688  4.8356533  13.01492981]\n",
      " [72.32912693  4.61761534 12.42809106]\n",
      " [58.60477595  3.74142927 10.06987811]\n",
      " [54.51144553  3.48010404  9.36653376]\n",
      " [52.43679277  3.34765466  9.01005257]]\n",
      "probability=0.950, critical=430.692, stat=596.956\n",
      "Dependent (reject H0)\n",
      "significance=0.050, p=0.000\n",
      "Dependent (reject H0)\n"
     ]
    }
   ],
   "source": [
    "stat, p, dof, expected = chi2_contingency(table)\n",
    "\n",
    "print(expected)\n",
    "# interpret test-statistic\n",
    "p_value = 0.95\n",
    "critical = chi2.ppf(p_value, dof)\n",
    "print('probability=%.3f, critical=%.3f, stat=%.3f' % (p_value, critical, stat))\n",
    "if abs(stat) >= critical:\n",
    "\tprint('Dependent (reject H0)')\n",
    "else:\n",
    "\tprint('Independent (fail to reject H0)')\n",
    "# interpret p-value\n",
    "alpha = 1.0 - p_value\n",
    "print('significance=%.3f, p=%.3f' % (alpha, p))\n",
    "if p <= alpha:\n",
    "\tprint('Dependent (reject H0)')\n",
    "else:\n",
    "\tprint('Independent (fail to reject H0)')"
   ]
  },
  {
   "cell_type": "markdown",
   "metadata": {},
   "source": [
    "From the above result we can see that there is no significant relationship between the dependent and the independent variables. Thus we reject the Null hypothesis(H0) and accept the Alternative hypothesis which mean there is no significant statistical between Life expectancy and Alcohol consumption."
   ]
  },
  {
   "cell_type": "markdown",
   "metadata": {},
   "source": [
    "## Using a two Annova"
   ]
  },
  {
   "cell_type": "code",
   "execution_count": 86,
   "metadata": {},
   "outputs": [
    {
     "data": {
      "text/html": [
       "<div>\n",
       "<style scoped>\n",
       "    .dataframe tbody tr th:only-of-type {\n",
       "        vertical-align: middle;\n",
       "    }\n",
       "\n",
       "    .dataframe tbody tr th {\n",
       "        vertical-align: top;\n",
       "    }\n",
       "\n",
       "    .dataframe thead th {\n",
       "        text-align: right;\n",
       "    }\n",
       "</style>\n",
       "<table border=\"1\" class=\"dataframe\">\n",
       "  <thead>\n",
       "    <tr style=\"text-align: right;\">\n",
       "      <th></th>\n",
       "      <th>sum_sq</th>\n",
       "      <th>df</th>\n",
       "      <th>F</th>\n",
       "      <th>PR(&gt;F)</th>\n",
       "    </tr>\n",
       "  </thead>\n",
       "  <tbody>\n",
       "    <tr>\n",
       "      <th>C(Alcohol)</th>\n",
       "      <td>14918.963362</td>\n",
       "      <td>179.0</td>\n",
       "      <td>1.209753</td>\n",
       "      <td>0.490199</td>\n",
       "    </tr>\n",
       "    <tr>\n",
       "      <th>C(Schooling)</th>\n",
       "      <td>14009.960434</td>\n",
       "      <td>173.0</td>\n",
       "      <td>1.175444</td>\n",
       "      <td>0.505095</td>\n",
       "    </tr>\n",
       "    <tr>\n",
       "      <th>Residual</th>\n",
       "      <td>275.580732</td>\n",
       "      <td>4.0</td>\n",
       "      <td>NaN</td>\n",
       "      <td>NaN</td>\n",
       "    </tr>\n",
       "  </tbody>\n",
       "</table>\n",
       "</div>"
      ],
      "text/plain": [
       "                    sum_sq     df         F    PR(>F)\n",
       "C(Alcohol)    14918.963362  179.0  1.209753  0.490199\n",
       "C(Schooling)  14009.960434  173.0  1.175444  0.505095\n",
       "Residual        275.580732    4.0       NaN       NaN"
      ]
     },
     "execution_count": 86,
     "metadata": {},
     "output_type": "execute_result"
    }
   ],
   "source": [
    "#perform two-way ANOVA\n",
    "model = ols('LifeExpectancy  ~  C(Alcohol) + C(Schooling)', data = table).fit()\n",
    "sm.stats.anova_lm(model, typ=2)"
   ]
  },
  {
   "cell_type": "markdown",
   "metadata": {},
   "source": [
    "Since the p-values for Alcohol and Schooling are both greater than .05, this means that both factors have no statistically significant effect on Life expecctancy.\n"
   ]
  },
  {
   "cell_type": "markdown",
   "metadata": {},
   "source": [
    "We can conclude that the Life expectancy of an individual is not in any way determined by the level of schooling or Alcohol consumption of an individual."
   ]
  },
  {
   "cell_type": "code",
   "execution_count": null,
   "metadata": {},
   "outputs": [],
   "source": []
  }
 ],
 "metadata": {
  "kernelspec": {
   "display_name": "Python 3",
   "language": "python",
   "name": "python3"
  },
  "language_info": {
   "codemirror_mode": {
    "name": "ipython",
    "version": 3
   },
   "file_extension": ".py",
   "mimetype": "text/x-python",
   "name": "python",
   "nbconvert_exporter": "python",
   "pygments_lexer": "ipython3",
   "version": "3.7.6"
  }
 },
 "nbformat": 4,
 "nbformat_minor": 4
}
